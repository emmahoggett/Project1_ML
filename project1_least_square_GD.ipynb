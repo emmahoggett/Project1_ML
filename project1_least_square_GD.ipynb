{
 "cells": [
  {
   "cell_type": "code",
   "execution_count": 7,
   "metadata": {},
   "outputs": [
    {
     "name": "stdout",
     "output_type": "stream",
     "text": [
      "The autoreload extension is already loaded. To reload it, use:\n",
      "  %reload_ext autoreload\n"
     ]
    }
   ],
   "source": [
    "# Useful starting lines\n",
    "%matplotlib inline\n",
    "import numpy as np\n",
    "import matplotlib.pyplot as plt\n",
    "%load_ext autoreload\n",
    "%autoreload 2"
   ]
  },
  {
   "cell_type": "markdown",
   "metadata": {},
   "source": [
    "## Load the training data into feature matrix, class labels, and event ids:"
   ]
  },
  {
   "cell_type": "code",
   "execution_count": 8,
   "metadata": {},
   "outputs": [],
   "source": [
    "from proj1_helpers import *\n",
    "DATA_TRAIN_PATH = \"train.csv\" # download train data and supply path\n",
    "y, tX, ids = load_csv_data(DATA_TRAIN_PATH)"
   ]
  },
  {
   "cell_type": "markdown",
   "metadata": {},
   "source": [
    "## Implementation"
   ]
  },
  {
   "cell_type": "code",
   "execution_count": 9,
   "metadata": {},
   "outputs": [
    {
     "name": "stdout",
     "output_type": "stream",
     "text": [
      "shape of x (250000, 30)\n",
      "shape of y (250000,)\n",
      "shape of ids (250000,)\n"
     ]
    }
   ],
   "source": [
    "print(\"shape of x {}\".format(tX.shape))\n",
    "print(\"shape of y {}\".format(y.shape))\n",
    "print(\"shape of ids {}\".format(ids.shape))"
   ]
  },
  {
   "cell_type": "code",
   "execution_count": 10,
   "metadata": {},
   "outputs": [],
   "source": [
    "from data_analysis import *\n",
    "\n",
    "##### Data analysis #####\n",
    "\n",
    "#Separate the data\n",
    "jet_num = 0\n",
    "y0, tX0, ids0, _ = extract_jet_num(jet_num, y, tX, ids)\n",
    "jet_num = 1\n",
    "y1, tX1, ids1, _ = extract_jet_num(jet_num, y, tX, ids)\n",
    "jet_num = 2\n",
    "y2, tX2, ids2, _ = extract_jet_num(jet_num, y, tX, ids)\n",
    "jet_num = 3\n",
    "y3, tX3, ids3, _ = extract_jet_num(jet_num, y, tX, ids)\n",
    "\n",
    "#Standarize the data\n",
    "#tX0 = standardize(tX0)\n",
    "#tX1 = standardize(tX1)\n",
    "#tX2 = standardize(tX2)\n",
    "#tX3 = standardize(tX3)\n"
   ]
  },
  {
   "cell_type": "code",
   "execution_count": 11,
   "metadata": {
    "scrolled": true
   },
   "outputs": [
    {
     "name": "stdout",
     "output_type": "stream",
     "text": [
      "shape of x0 (99913, 18)\n",
      "shape of y0 (99913,)\n",
      "shape of ids0 (99913,)\n",
      "shape of x1 (77544, 20)\n",
      "shape of y1 (77544,)\n",
      "shape of ids1 (77544,)\n",
      "shape of x2 (50379, 26)\n",
      "shape of y2 (50379,)\n",
      "shape of ids2 (50379,)\n",
      "shape of x3 (22164, 26)\n",
      "shape of y3 (22164,)\n",
      "shape of ids3 (22164,)\n"
     ]
    }
   ],
   "source": [
    "print(\"shape of x0 {}\".format(tX0.shape))\n",
    "print(\"shape of y0 {}\".format(y0.shape))\n",
    "print(\"shape of ids0 {}\".format(ids0.shape))\n",
    "print(\"shape of x1 {}\".format(tX1.shape))\n",
    "print(\"shape of y1 {}\".format(y1.shape))\n",
    "print(\"shape of ids1 {}\".format(ids1.shape))\n",
    "print(\"shape of x2 {}\".format(tX2.shape))\n",
    "print(\"shape of y2 {}\".format(y2.shape))\n",
    "print(\"shape of ids2 {}\".format(ids2.shape))\n",
    "print(\"shape of x3 {}\".format(tX3.shape))\n",
    "print(\"shape of y3 {}\".format(y3.shape))\n",
    "print(\"shape of ids3 {}\".format(ids3.shape))"
   ]
  },
  {
   "cell_type": "code",
   "execution_count": 63,
   "metadata": {},
   "outputs": [],
   "source": [
    "from implementation import least_squares_GD\n",
    "\n",
    "##### Machine learning #####\n",
    "\n",
    "# Parameters of the algorithm\n",
    "max_iters = 50\n",
    "gamma = 0.7\n",
    "\n",
    "# Initialisation\n",
    "initial_w = np.zeros(tX.shape[1])\n",
    "\n",
    "initial_w0 = np.zeros(tX0.shape[1])\n",
    "initial_w1 = np.zeros(tX1.shape[1])\n",
    "initial_w2 = np.zeros(tX2.shape[1])\n",
    "initial_w3 = np.zeros(tX3.shape[1])\n",
    "\n",
    "# Start gradient descent.\n",
    "w, loss = least_squares_GD(y, tX, initial_w, max_iters, gamma)\n",
    "\n",
    "w0, loss0 = least_squares_GD(y0, tX0, initial_w0, max_iters, gamma)\n",
    "w1, loss1 = least_squares_GD(y1, tX1, initial_w1, max_iters, gamma)\n",
    "w2, loss2 = least_squares_GD(y2, tX2, initial_w2, max_iters, gamma)\n",
    "w3, loss3 = least_squares_GD(y3, tX3, initial_w3, max_iters, gamma)"
   ]
  },
  {
   "cell_type": "markdown",
   "metadata": {},
   "source": [
    "## Generate predictions and save ouput in csv format for submission:"
   ]
  },
  {
   "cell_type": "code",
   "execution_count": 64,
   "metadata": {},
   "outputs": [],
   "source": [
    "DATA_TEST_PATH = \"test.csv\" #download train data and supply path\n",
    "y_te, tX_te, ids_te = load_csv_data(DATA_TEST_PATH)"
   ]
  },
  {
   "cell_type": "code",
   "execution_count": 65,
   "metadata": {},
   "outputs": [
    {
     "name": "stdout",
     "output_type": "stream",
     "text": [
      "shape of x (568238, 30)\n",
      "shape of ids (568238,)\n"
     ]
    }
   ],
   "source": [
    "print(\"shape of x {}\".format(tX_te.shape))\n",
    "print(\"shape of ids {}\".format(ids_te.shape))"
   ]
  },
  {
   "cell_type": "code",
   "execution_count": 66,
   "metadata": {},
   "outputs": [],
   "source": [
    "from data_analysis import * \n",
    "\n",
    "##### Test on test dataset #####\n",
    "\n",
    "#Standarize the data\n",
    "#tX_te = standardize(tX_te)\n",
    "\n",
    "#Separate the data\n",
    "jet_num = 0\n",
    "y0_te, tX0_te, ids0_te, _ = extract_jet_num(jet_num, y_te, tX_te, ids_te)\n",
    "jet_num = 1\n",
    "y1_te, tX1_te, ids1_te, _ = extract_jet_num(jet_num, y_te, tX_te, ids_te)\n",
    "jet_num = 2\n",
    "y2_te, tX2_te, ids2_te, _ = extract_jet_num(jet_num, y_te, tX_te, ids_te)\n",
    "jet_num = 3\n",
    "y3_te, tX3_te, ids3_te, _ = extract_jet_num(jet_num, y_te, tX_te, ids_te)\n"
   ]
  },
  {
   "cell_type": "code",
   "execution_count": 67,
   "metadata": {},
   "outputs": [
    {
     "name": "stdout",
     "output_type": "stream",
     "text": [
      "shape of x0 (227458, 18)\n",
      "shape of ids0 (227458,)\n",
      "shape of x1 (175338, 20)\n",
      "shape of ids1 (175338,)\n",
      "shape of x2 (114648, 26)\n",
      "shape of ids2 (114648,)\n",
      "shape of x3 (50794, 26)\n",
      "shape of ids3 (50794,)\n"
     ]
    }
   ],
   "source": [
    "print(\"shape of x0 {}\".format(tX0_te.shape))\n",
    "print(\"shape of ids0 {}\".format(ids0_te.shape))\n",
    "print(\"shape of x1 {}\".format(tX1_te.shape))\n",
    "print(\"shape of ids1 {}\".format(ids1_te.shape))\n",
    "print(\"shape of x2 {}\".format(tX2_te.shape))\n",
    "print(\"shape of ids2 {}\".format(ids2_te.shape))\n",
    "print(\"shape of x3 {}\".format(tX3_te.shape))\n",
    "print(\"shape of ids3 {}\".format(ids3_te.shape))"
   ]
  },
  {
   "cell_type": "code",
   "execution_count": 68,
   "metadata": {},
   "outputs": [
    {
     "ename": "ValueError",
     "evalue": "cannot convert float NaN to integer",
     "output_type": "error",
     "traceback": [
      "\u001b[1;31m---------------------------------------------------------------------------\u001b[0m",
      "\u001b[1;31mValueError\u001b[0m                                Traceback (most recent call last)",
      "\u001b[1;32m<ipython-input-68-a61d8e08fbb2>\u001b[0m in \u001b[0;36m<module>\u001b[1;34m\u001b[0m\n\u001b[0;32m      1\u001b[0m \u001b[0mOUTPUT_PATH\u001b[0m \u001b[1;33m=\u001b[0m \u001b[1;34m'results_least_squares_GD_nosep.csv'\u001b[0m \u001b[1;31m#name of output file for submission\u001b[0m\u001b[1;33m\u001b[0m\u001b[1;33m\u001b[0m\u001b[0m\n\u001b[0;32m      2\u001b[0m \u001b[0my_pred_nosep\u001b[0m \u001b[1;33m=\u001b[0m \u001b[0mpredict_labels\u001b[0m\u001b[1;33m(\u001b[0m\u001b[0mw\u001b[0m\u001b[1;33m,\u001b[0m \u001b[0mtX_te\u001b[0m\u001b[1;33m)\u001b[0m\u001b[1;33m\u001b[0m\u001b[1;33m\u001b[0m\u001b[0m\n\u001b[1;32m----> 3\u001b[1;33m \u001b[0mcreate_csv_submission\u001b[0m\u001b[1;33m(\u001b[0m\u001b[0mids_te\u001b[0m\u001b[1;33m,\u001b[0m \u001b[0my_pred_nosep\u001b[0m\u001b[1;33m,\u001b[0m \u001b[0mOUTPUT_PATH\u001b[0m\u001b[1;33m)\u001b[0m\u001b[1;33m\u001b[0m\u001b[1;33m\u001b[0m\u001b[0m\n\u001b[0m",
      "\u001b[1;32mD:\\Documents\\GitHub\\Project1_ML\\proj1_helpers.py\u001b[0m in \u001b[0;36mcreate_csv_submission\u001b[1;34m(ids, y_pred, name)\u001b[0m\n\u001b[0;32m     46\u001b[0m         \u001b[0mwriter\u001b[0m\u001b[1;33m.\u001b[0m\u001b[0mwriteheader\u001b[0m\u001b[1;33m(\u001b[0m\u001b[1;33m)\u001b[0m\u001b[1;33m\u001b[0m\u001b[1;33m\u001b[0m\u001b[0m\n\u001b[0;32m     47\u001b[0m         \u001b[1;32mfor\u001b[0m \u001b[0mr1\u001b[0m\u001b[1;33m,\u001b[0m \u001b[0mr2\u001b[0m \u001b[1;32min\u001b[0m \u001b[0mzip\u001b[0m\u001b[1;33m(\u001b[0m\u001b[0mids\u001b[0m\u001b[1;33m,\u001b[0m \u001b[0my_pred\u001b[0m\u001b[1;33m)\u001b[0m\u001b[1;33m:\u001b[0m\u001b[1;33m\u001b[0m\u001b[1;33m\u001b[0m\u001b[0m\n\u001b[1;32m---> 48\u001b[1;33m             \u001b[0mwriter\u001b[0m\u001b[1;33m.\u001b[0m\u001b[0mwriterow\u001b[0m\u001b[1;33m(\u001b[0m\u001b[1;33m{\u001b[0m\u001b[1;34m'Id'\u001b[0m\u001b[1;33m:\u001b[0m\u001b[0mint\u001b[0m\u001b[1;33m(\u001b[0m\u001b[0mr1\u001b[0m\u001b[1;33m)\u001b[0m\u001b[1;33m,\u001b[0m\u001b[1;34m'Prediction'\u001b[0m\u001b[1;33m:\u001b[0m\u001b[0mint\u001b[0m\u001b[1;33m(\u001b[0m\u001b[0mr2\u001b[0m\u001b[1;33m)\u001b[0m\u001b[1;33m}\u001b[0m\u001b[1;33m)\u001b[0m\u001b[1;33m\u001b[0m\u001b[1;33m\u001b[0m\u001b[0m\n\u001b[0m",
      "\u001b[1;31mValueError\u001b[0m: cannot convert float NaN to integer"
     ]
    }
   ],
   "source": [
    "OUTPUT_PATH = 'results_least_squares_GD_nosep.csv' #name of output file for submission\n",
    "y_pred_nosep = predict_labels(w, tX_te)\n",
    "create_csv_submission(ids_te, y_pred_nosep, OUTPUT_PATH)"
   ]
  },
  {
   "cell_type": "code",
   "execution_count": 69,
   "metadata": {},
   "outputs": [],
   "source": [
    "OUTPUT_PATH = 'results_least_squares_GD_sep.csv' #name of output file for submission\n",
    "\n",
    "y0_pred = predict_labels(w0, tX0_te)\n",
    "y1_pred = predict_labels(w1, tX1_te)\n",
    "y2_pred = predict_labels(w2, tX2_te)\n",
    "y3_pred = predict_labels(w3, tX3_te)\n",
    "\n",
    "y_pred_sep = np.concatenate([y0_pred, y1_pred, y2_pred, y3_pred])\n",
    "ids_te_sep = np.concatenate([ids0_te, ids1_te, ids2_te, ids3_te])\n",
    "\n",
    "create_csv_submission(ids_te_sep, y_pred_sep, OUTPUT_PATH)"
   ]
  },
  {
   "cell_type": "code",
   "execution_count": null,
   "metadata": {},
   "outputs": [],
   "source": []
  }
 ],
 "metadata": {
  "anaconda-cloud": {},
  "kernelspec": {
   "display_name": "Python 3",
   "language": "python",
   "name": "python3"
  },
  "language_info": {
   "codemirror_mode": {
    "name": "ipython",
    "version": 3
   },
   "file_extension": ".py",
   "mimetype": "text/x-python",
   "name": "python",
   "nbconvert_exporter": "python",
   "pygments_lexer": "ipython3",
   "version": "3.7.3"
  }
 },
 "nbformat": 4,
 "nbformat_minor": 1
}
