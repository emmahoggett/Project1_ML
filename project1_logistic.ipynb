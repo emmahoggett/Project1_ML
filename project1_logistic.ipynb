{
 "cells": [
  {
   "cell_type": "code",
   "execution_count": 2,
   "metadata": {},
   "outputs": [
    {
     "name": "stdout",
     "output_type": "stream",
     "text": [
      "The autoreload extension is already loaded. To reload it, use:\n",
      "  %reload_ext autoreload\n"
     ]
    }
   ],
   "source": [
    "# Useful starting lines\n",
    "%matplotlib inline\n",
    "import numpy as np\n",
    "import matplotlib.pyplot as plt\n",
    "%load_ext autoreload\n",
    "%autoreload 2"
   ]
  },
  {
   "cell_type": "markdown",
   "metadata": {},
   "source": [
    "## Load the training data into feature matrix, class labels, and event ids:"
   ]
  },
  {
   "cell_type": "code",
   "execution_count": 113,
   "metadata": {},
   "outputs": [],
   "source": [
    "from proj1_helpers import *\n",
    "\n",
    "DATA_TRAIN_PATH = \"data/train.csv\" # download train data and supply path\n",
    "y_tr, tX_tr, ids_tr = load_csv_data(DATA_TRAIN_PATH)\n",
    "\n",
    "DATA_TEST_PATH = \"data/test.csv\" #download train data and supply path\n",
    "y_fin, tX_fin, ids_fin = load_csv_data(DATA_TEST_PATH)"
   ]
  },
  {
   "cell_type": "markdown",
   "metadata": {},
   "source": [
    "## Implementation"
   ]
  },
  {
   "cell_type": "code",
   "execution_count": 121,
   "metadata": {},
   "outputs": [],
   "source": [
    "from data_analysis import *\n",
    "\n",
    "##### Data analysis #####\n",
    "\n",
    "degree=3\n",
    "#Separate the data\n",
    "jet_num = 0\n",
    "y0_tr, tX0_tr, ids0_tr, y0_te, tX0_te, ids0_te, y0_fin, tX0_fin, ids0_fin = data_analysis(jet_num, y_tr, tX_tr, ids_tr, y_fin, tX_fin, ids_fin)\n",
    "jet_num = 1\n",
    "y1_tr, tX1_tr, ids1_tr,y1_te, tX1_te, ids1_te, y1_fin, tX1_fin, ids1_fin = data_analysis(jet_num, y_tr, tX_tr, ids_tr, y_fin, tX_fin, ids_fin)\n",
    "jet_num = 2\n",
    "y2_tr, tX2_tr, ids2_tr,y2_te, tX2_te, ids2_te, y2_fin, tX2_fin, ids2_fin = data_analysis(jet_num, y_tr, tX_tr, ids_tr, y_fin, tX_fin, ids_fin)\n",
    "jet_num = 3\n",
    "y3_tr, tX3_tr, ids3_tr,y3_te, tX3_te, ids3_te, y3_fin, tX3_fin, ids3_fin = data_analysis(jet_num, y_tr, tX_tr, ids_tr, y_fin, tX_fin, ids_fin)\n"
   ]
  },
  {
   "cell_type": "code",
   "execution_count": 135,
   "metadata": {
    "scrolled": false
   },
   "outputs": [],
   "source": [
    "from implementation import *\n",
    "from optimization import * \n",
    "\n",
    "##### Logistic regression #####\n",
    "\n",
    "max_iters = 2\n",
    "best_gamma=0.00028072162039411786\n",
    "\n",
    "init_w0, _ = least_squares(y0_tr, tX0_tr)\n",
    "init_w1, _ = least_squares(y1_tr, tX1_tr)\n",
    "init_w2, _ = least_squares(y2_tr, tX2_tr)\n",
    "init_w3, _ = least_squares(y3_tr, tX3_tr)\n",
    "\n",
    "w0, loss0 = logistic_regression(y0_tr, tX0_tr, init_w0, max_iters, gamma)\n",
    "w1, loss1 = logistic_regression(y1_tr, tX1_tr, init_w1, max_iters, gamma)\n",
    "w2, loss2 = logistic_regression(y2_tr, tX2_tr, init_w2, max_iters, gamma)\n",
    "w3, loss3 = logistic_regression(y3_tr, tX3_tr, init_w3, max_iters, gamma)\n"
   ]
  },
  {
   "cell_type": "markdown",
   "metadata": {},
   "source": [
    "## Test the implementation:"
   ]
  },
  {
   "cell_type": "code",
   "execution_count": 136,
   "metadata": {},
   "outputs": [],
   "source": [
    "y0_pred = predict_labels(w0, tX0_te)\n",
    "y1_pred = predict_labels(w1, tX1_te)\n",
    "y2_pred = predict_labels(w2, tX2_te)\n",
    "y3_pred = predict_labels(w3, tX3_te)\n",
    "\n",
    "\n",
    "grades = [0., 0., 0., 0.]\n",
    "res0 = np.where(y0_te[:,] == y0_pred[:,], 1, 0)\n",
    "grades[0] = np.mean(res0)\n",
    "res1 = np.where(y1_te[:,] == y1_pred[:,], 1, 0)\n",
    "grades[1] = np.mean(res0)\n",
    "res2 = np.where(y2_te[:,] == y2_pred[:,], 1, 0)\n",
    "grades[2] = np.mean(res2)\n",
    "res3 = np.where(y3_te[:,] == y3_pred[:,], 1, 0)\n",
    "grades[3] = np.mean(res3)\n",
    "grade = np.mean(grades)"
   ]
  },
  {
   "cell_type": "code",
   "execution_count": 137,
   "metadata": {},
   "outputs": [
    {
     "name": "stdout",
     "output_type": "stream",
     "text": [
      "0.7659752330814208\n"
     ]
    }
   ],
   "source": [
    "print(grade)"
   ]
  },
  {
   "cell_type": "markdown",
   "metadata": {},
   "source": [
    "## Generate predictions and save ouput in csv format for submission:"
   ]
  },
  {
   "cell_type": "code",
   "execution_count": 138,
   "metadata": {},
   "outputs": [],
   "source": [
    "y0_pred = predict_labels(w0, tX0_fin)\n",
    "y1_pred = predict_labels(w1, tX1_fin)\n",
    "y2_pred = predict_labels(w2, tX2_fin)\n",
    "y3_pred = predict_labels(w3, tX3_fin)"
   ]
  },
  {
   "cell_type": "code",
   "execution_count": 139,
   "metadata": {},
   "outputs": [
    {
     "name": "stdout",
     "output_type": "stream",
     "text": [
      "(568238,)\n",
      "(568238,)\n"
     ]
    }
   ],
   "source": [
    "y_pred = np.concatenate([y0_pred, y1_pred, y2_pred, y3_pred])\n",
    "print(y_pred.shape)\n",
    "ids_pred = np.concatenate([ids0_fin, ids1_fin, ids2_fin, ids3_fin])\n",
    "print(ids_pred.shape)\n",
    "OUTPUT_PATH = 'results_ridge.csv' \n",
    "create_csv_submission(ids_pred, y_pred, OUTPUT_PATH)"
   ]
  },
  {
   "cell_type": "code",
   "execution_count": null,
   "metadata": {},
   "outputs": [],
   "source": []
  }
 ],
 "metadata": {
  "anaconda-cloud": {},
  "kernelspec": {
   "display_name": "Python 3",
   "language": "python",
   "name": "python3"
  },
  "language_info": {
   "codemirror_mode": {
    "name": "ipython",
    "version": 3
   },
   "file_extension": ".py",
   "mimetype": "text/x-python",
   "name": "python",
   "nbconvert_exporter": "python",
   "pygments_lexer": "ipython3",
   "version": "3.7.3"
  }
 },
 "nbformat": 4,
 "nbformat_minor": 1
}
