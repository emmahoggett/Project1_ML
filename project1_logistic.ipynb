{
 "cells": [
  {
   "cell_type": "code",
   "execution_count": 1,
   "metadata": {},
   "outputs": [],
   "source": [
    "# Useful starting lines\n",
    "%matplotlib inline\n",
    "import numpy as np\n",
    "import matplotlib.pyplot as plt\n",
    "%load_ext autoreload\n",
    "%autoreload 2"
   ]
  },
  {
   "cell_type": "markdown",
   "metadata": {},
   "source": [
    "## Load the training data into feature matrix, class labels, and event ids:"
   ]
  },
  {
   "cell_type": "code",
   "execution_count": 2,
   "metadata": {},
   "outputs": [],
   "source": [
    "from proj1_helpers import *\n",
    "\n",
    "DATA_TRAIN_PATH = \"data/train.csv\" # download train data and supply path\n",
    "y_tr, tX_tr, ids_tr = load_csv_data(DATA_TRAIN_PATH)\n",
    "\n",
    "DATA_TEST_PATH = \"data/test.csv\" #download train data and supply path\n",
    "y_fin, tX_fin, ids_fin = load_csv_data(DATA_TEST_PATH)"
   ]
  },
  {
   "cell_type": "markdown",
   "metadata": {},
   "source": [
    "## Implementation"
   ]
  },
  {
   "cell_type": "code",
   "execution_count": 3,
   "metadata": {},
   "outputs": [],
   "source": [
    "from data_analysis import *\n",
    "\n",
    "##### Data analysis #####\n",
    "\n",
    "#Separate the data\n",
    "jet_num = 0\n",
    "y0_tr, tX0_tr, ids0_tr, y0_fin, tX0_fin, ids0_fin = data_analysis(jet_num, y_tr, tX_tr, ids_tr, y_fin, tX_fin, ids_fin)\n",
    "jet_num = 1\n",
    "y1_tr, tX1_tr, ids1_tr, y1_fin, tX1_fin, ids1_fin = data_analysis(jet_num, y_tr, tX_tr, ids_tr, y_fin, tX_fin, ids_fin)\n",
    "jet_num = 2\n",
    "y2_tr, tX2_tr, ids2_tr, y2_fin, tX2_fin, ids2_fin = data_analysis(jet_num, y_tr, tX_tr, ids_tr, y_fin, tX_fin, ids_fin)\n",
    "jet_num = 3\n",
    "y3_tr, tX3_tr, ids3_tr, y3_fin, tX3_fin, ids3_fin = data_analysis(jet_num, y_tr, tX_tr, ids_tr, y_fin, tX_fin, ids_fin)\n"
   ]
  },
  {
   "cell_type": "code",
   "execution_count": 4,
   "metadata": {},
   "outputs": [],
   "source": [
    "# Split the data into train (80%) and test (20%) parts \n",
    "ratio = 0.8;\n",
    "tX0_tr, tX0_te, y0_tr, y0_te, ids0_tr, ids0_te = split_data(tX0_tr, y0_tr, ids0_tr, ratio)\n",
    "tX1_tr, tX1_te, y1_tr, y1_te, ids1_tr, ids1_te = split_data(tX1_tr, y1_tr, ids1_tr, ratio)\n",
    "tX2_tr, tX2_te, y2_tr, y2_te, ids2_tr, ids2_te = split_data(tX2_tr, y2_tr, ids2_tr, ratio)\n",
    "tX3_tr, tX3_te, y3_tr, y3_te, ids3_tr, ids3_te = split_data(tX3_tr, y3_tr, ids3_tr, ratio)"
   ]
  },
  {
   "cell_type": "code",
   "execution_count": 10,
   "metadata": {
    "scrolled": false
   },
   "outputs": [
    {
     "name": "stderr",
     "output_type": "stream",
     "text": [
      "/media/louise/Windows/Users/louau/Documents/Machine_learning/Project1_ML/implementation.py:57: RuntimeWarning: divide by zero encountered in log\n",
      "  loss = -np.mean(y*np.log(sigma)+(1-y)*np.log(1-sigma))\n",
      "/media/louise/Windows/Users/louau/Documents/Machine_learning/Project1_ML/implementation.py:57: RuntimeWarning: invalid value encountered in multiply\n",
      "  loss = -np.mean(y*np.log(sigma)+(1-y)*np.log(1-sigma))\n"
     ]
    }
   ],
   "source": [
    "from implementation import *\n",
    "from optimization import * \n",
    "\n",
    "##### Logistic regression #####\n",
    "\n",
    "lambda_ = 0.15\n",
    "max_iters = 150\n",
    "gamma = 0.1\n",
    "\n",
    "init_w0, _ = least_squares(y0_tr, tX0_tr)\n",
    "init_w1, _ = least_squares(y1_tr, tX1_tr)\n",
    "init_w2, _ = least_squares(y2_tr, tX2_tr)\n",
    "init_w3, _ = least_squares(y3_tr, tX3_tr)\n",
    "\n",
    "w0, loss0 = logistic_regression(y0_tr, tX0_tr, init_w0, max_iters, gamma)\n",
    "w1, loss1 = logistic_regression(y1_tr, tX1_tr, init_w1, max_iters, gamma)\n",
    "w2, loss2 = logistic_regression(y2_tr, tX2_tr, init_w2, max_iters, gamma)\n",
    "w3, loss3 = logistic_regression(y3_tr, tX3_tr, init_w3, max_iters, gamma)"
   ]
  },
  {
   "cell_type": "markdown",
   "metadata": {},
   "source": [
    "## Test the implementation:"
   ]
  },
  {
   "cell_type": "code",
   "execution_count": 8,
   "metadata": {},
   "outputs": [
    {
     "name": "stdout",
     "output_type": "stream",
     "text": [
      "(19983,)\n",
      "(19983,)\n"
     ]
    }
   ],
   "source": [
    "y0_pred = predict_labels(w0, tX0_te)\n",
    "y1_pred = predict_labels(w1, tX1_te)\n",
    "y2_pred = predict_labels(w2, tX2_te)\n",
    "y3_pred = predict_labels(w3, tX3_te)\n",
    "\n",
    "print(y0_pred.shape)\n",
    "print(y0_te.shape)\n",
    "\n",
    "grades = [0., 0., 0., 0.]\n",
    "res0 = np.where(y0_te[:,] == y0_pred[:,], 1, 0)\n",
    "grades[0] = np.mean(res0)\n",
    "res1 = np.where(y1_te[:,] == y1_pred[:,], 1, 0)\n",
    "grades[1] = np.mean(res0)\n",
    "res2 = np.where(y2_te[:,] == y2_pred[:,], 1, 0)\n",
    "grades[2] = np.mean(res2)\n",
    "res3 = np.where(y3_te[:,] == y3_pred[:,], 1, 0)\n",
    "grades[3] = np.mean(res3)\n",
    "grade = np.mean(grades)\n"
   ]
  },
  {
   "cell_type": "code",
   "execution_count": 9,
   "metadata": {},
   "outputs": [
    {
     "name": "stdout",
     "output_type": "stream",
     "text": [
      "0.6694109888308017\n"
     ]
    }
   ],
   "source": [
    "print(grade)"
   ]
  },
  {
   "cell_type": "markdown",
   "metadata": {},
   "source": [
    "## Generate predictions and save ouput in csv format for submission:"
   ]
  },
  {
   "cell_type": "code",
   "execution_count": 11,
   "metadata": {},
   "outputs": [],
   "source": [
    "y0_pred = predict_labels(w0, tX0_fin)\n",
    "y1_pred = predict_labels(w1, tX1_fin)\n",
    "y2_pred = predict_labels(w2, tX2_fin)\n",
    "y3_pred = predict_labels(w3, tX3_fin)"
   ]
  },
  {
   "cell_type": "code",
   "execution_count": 12,
   "metadata": {},
   "outputs": [],
   "source": [
    "y_pred = np.concatenate([y0_pred, y1_pred, y2_pred, y3_pred])\n",
    "ids_pred = np.concatenate([ids0_te, ids1_te, ids2_te, ids3_te])\n",
    "OUTPUT_PATH = 'results_ridge.csv' \n",
    "create_csv_submission(ids_pred, y_pred, OUTPUT_PATH)"
   ]
  },
  {
   "cell_type": "code",
   "execution_count": null,
   "metadata": {},
   "outputs": [],
   "source": []
  }
 ],
 "metadata": {
  "anaconda-cloud": {},
  "kernelspec": {
   "display_name": "Python 3",
   "language": "python",
   "name": "python3"
  },
  "language_info": {
   "codemirror_mode": {
    "name": "ipython",
    "version": 3
   },
   "file_extension": ".py",
   "mimetype": "text/x-python",
   "name": "python",
   "nbconvert_exporter": "python",
   "pygments_lexer": "ipython3",
   "version": "3.7.3"
  }
 },
 "nbformat": 4,
 "nbformat_minor": 1
}
