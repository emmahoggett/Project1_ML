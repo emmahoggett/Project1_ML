{
 "cells": [
  {
   "cell_type": "code",
   "execution_count": 11,
   "metadata": {},
   "outputs": [
    {
     "name": "stdout",
     "output_type": "stream",
     "text": [
      "The autoreload extension is already loaded. To reload it, use:\n",
      "  %reload_ext autoreload\n"
     ]
    }
   ],
   "source": [
    "# Useful starting lines\n",
    "%matplotlib inline\n",
    "import numpy as np\n",
    "import matplotlib.pyplot as plt\n",
    "%load_ext autoreload\n",
    "%autoreload 2"
   ]
  },
  {
   "cell_type": "markdown",
   "metadata": {},
   "source": [
    "## Load the training data into feature matrix, class labels, and event ids:"
   ]
  },
  {
   "cell_type": "code",
   "execution_count": 12,
   "metadata": {},
   "outputs": [],
   "source": [
    "from proj1_helpers import *\n",
    "from data_analysis_logistic import *\n",
    "from implementation import *\n",
    "from cross_validation_logistic import*"
   ]
  },
  {
   "cell_type": "code",
   "execution_count": 13,
   "metadata": {},
   "outputs": [],
   "source": [
    "DATA_TRAIN_PATH = \"data/train.csv\" # download train data and supply path\n",
    "y_tr, tX_tr, ids_tr = load_csv_data(DATA_TRAIN_PATH)\n",
    "\n",
    "DATA_TEST_PATH = \"data/test.csv\" #download train data and supply path\n",
    "y_fin, tX_fin, ids_fin = load_csv_data(DATA_TEST_PATH)"
   ]
  },
  {
   "cell_type": "markdown",
   "metadata": {},
   "source": [
    "# Implementation\n",
    "\n",
    "## Separation of the data"
   ]
  },
  {
   "cell_type": "code",
   "execution_count": 14,
   "metadata": {},
   "outputs": [],
   "source": [
    "mass=1\n",
    "jet_num = 0\n",
    "y0_tr_mass, tX0_tr_mass,y0_tr_new_mass, tX0_tr_new_mass, ids0_tr_mass, y0_te_mass, tX0_te_mass, ids0_te_mass, y0_fin_mass, tX0_fin_mass, ids0_fin_mass = data_analysis(jet_num, y_tr, tX_tr, ids_tr, y_fin, tX_fin, ids_fin, mass)\n",
    "jet_num = 1\n",
    "y1_tr_mass, tX1_tr_mass,y1_tr_new_mass, tX1_tr_new_mass, ids1_tr_mass, y1_te_mass, tX1_te_mass, ids1_te_mass, y1_fin_mass, tX1_fin_mass, ids1_fin_mass = data_analysis(jet_num, y_tr, tX_tr, ids_tr, y_fin, tX_fin, ids_fin, mass)\n",
    "jet_num = 2\n",
    "y2_tr_mass, tX2_tr_mass,y2_tr_new_mass, tX2_tr_new_mass, ids2_tr_mass, y2_te_mass, tX2_te_mass, ids2_te_mass, y2_fin_mass, tX2_fin_mass, ids2_fin_mass = data_analysis(jet_num, y_tr, tX_tr, ids_tr, y_fin, tX_fin, ids_fin, mass)\n",
    "jet_num = 3\n",
    "y3_tr_mass, tX3_tr_mass,y3_tr_new_mass, tX3_tr_new_mass, ids3_tr_mass, y3_te_mass, tX3_te_mass, ids3_te_mass, y3_fin_mass, tX3_fin_mass, ids3_fin_mass = data_analysis(jet_num, y_tr, tX_tr, ids_tr, y_fin, tX_fin, ids_fin, mass)\n",
    "\n",
    "mass=0\n",
    "jet_num = 0\n",
    "y0_tr_nomass, tX0_tr_nomass,y0_tr_new_nomass, tX0_tr_new_nomass, ids0_tr_nomass, y0_te_nomass, tX0_te_nomass, ids0_te_nomass, y0_fin_nomass, tX0_fin_nomass, ids0_fin_nomass = data_analysis(jet_num, y_tr, tX_tr, ids_tr, y_fin, tX_fin, ids_fin, mass)\n",
    "jet_num = 1\n",
    "y1_tr_nomass, tX1_tr_nomass,y1_tr_new_nomass, tX1_tr_new_nomass, ids1_tr_nomass, y1_te_nomass, tX1_te_nomass, ids1_te_nomass, y1_fin_nomass, tX1_fin_nomass, ids1_fin_nomass = data_analysis(jet_num, y_tr, tX_tr, ids_tr, y_fin, tX_fin, ids_fin, mass)\n",
    "jet_num = 2\n",
    "y2_tr_nomass, tX2_tr_nomass,y2_tr_new_nomass, tX2_tr_new_nomass, ids2_tr_nomass, y2_te_nomass, tX2_te_nomass, ids2_te_nomass, y2_fin_nomass, tX2_fin_nomass, ids2_fin_nomass = data_analysis(jet_num, y_tr, tX_tr, ids_tr, y_fin, tX_fin, ids_fin, mass)\n",
    "jet_num = 3\n",
    "y3_tr_nomass, tX3_tr_nomass,y3_tr_new_nomass, tX3_tr_new_nomass, ids3_tr_nomass, y3_te_nomass, tX3_te_nomass, ids3_te_nomass, y3_fin_nomass, tX3_fin_nomass, ids3_fin_nomass = data_analysis(jet_num, y_tr, tX_tr, ids_tr, y_fin, tX_fin, ids_fin, mass)\n"
   ]
  },
  {
   "cell_type": "code",
   "execution_count": 15,
   "metadata": {},
   "outputs": [],
   "source": [
    "init_w0_mass=np.zeros(tX0_tr_mass.shape[1])\n",
    "init_w1_mass=np.zeros(tX1_tr_mass.shape[1])\n",
    "init_w2_mass=np.zeros(tX2_tr_mass.shape[1])\n",
    "init_w3_mass=np.zeros(tX3_tr_mass.shape[1])\n",
    "\n",
    "init_w0_nomass=np.zeros(tX0_tr_nomass.shape[1])\n",
    "init_w1_nomass=np.zeros(tX1_tr_nomass.shape[1])\n",
    "init_w2_nomass=np.zeros(tX2_tr_nomass.shape[1])\n",
    "init_w3_nomass=np.zeros(tX3_tr_nomass.shape[1])\n",
    "\n",
    "max_iters=40\n",
    "gamma=0.01"
   ]
  },
  {
   "cell_type": "code",
   "execution_count": 16,
   "metadata": {},
   "outputs": [
    {
     "data": {
      "text/plain": [
       "(array([], dtype=int64),)"
      ]
     },
     "execution_count": 16,
     "metadata": {},
     "output_type": "execute_result"
    }
   ],
   "source": [
    "np.where(tX0_tr_mass[:,0]==-999)"
   ]
  },
  {
   "cell_type": "markdown",
   "metadata": {},
   "source": [
    "## No extended feature - no separation of data"
   ]
  },
  {
   "cell_type": "markdown",
   "metadata": {},
   "source": [
    "Résultats:\n",
    "- Categorical accuracy: \n",
    "- F1-Score: \n",
    "- Our grade: 0.642"
   ]
  },
  {
   "cell_type": "code",
   "execution_count": 54,
   "metadata": {},
   "outputs": [],
   "source": [
    "ratio=0.8\n",
    "X_tr, X_te, Y_tr, Y_te, IDS_tr, IDS_te=split_data(tX_tr, y_tr, ids_tr, ratio, seed=1)\n",
    "X_tr, m, std = standardize(X_tr)\n",
    "X_te = standardize_te(X_te, m, std)\n",
    "\n",
    "init_w=np.zeros(X_tr.shape[1])"
   ]
  },
  {
   "cell_type": "code",
   "execution_count": 55,
   "metadata": {},
   "outputs": [
    {
     "name": "stdout",
     "output_type": "stream",
     "text": [
      "0.64176\n"
     ]
    }
   ],
   "source": [
    "w, loss = logistic_regression(Y_tr, X_tr,init_w, max_iters, gamma)\n",
    "\n",
    "y_pred = predict_labels(w, X_te)\n",
    "\n",
    "res = np.where(Y_te[:,] == y_pred[:,], 1, 0)\n",
    "grade = np.mean(res)\n",
    "\n",
    "print(grade)"
   ]
  },
  {
   "cell_type": "code",
   "execution_count": 9,
   "metadata": {},
   "outputs": [],
   "source": [
    "init_w=np.zeros(tX_tr.shape[1])\n",
    "tX_tr, m, std = standardize(tX_tr)\n",
    "w, loss = logistic_regression(y_tr, tX_tr,init_w, max_iters, gamma)\n",
    "\n",
    "y_pred = predict_labels(w, tX_fin)\n",
    "ids_pred = ids_fin\n",
    "OUTPUT_PATH = 'results_logistic_noext_nosep.csv' \n",
    "create_csv_submission(ids_pred, y_pred, OUTPUT_PATH)"
   ]
  },
  {
   "cell_type": "markdown",
   "metadata": {
    "scrolled": true
   },
   "source": [
    "## Extended feature"
   ]
  },
  {
   "cell_type": "markdown",
   "metadata": {},
   "source": [
    "Résultat:\n",
    "- Categorical accuracy: 0.755 - 0.747\n",
    "- F1-Score: 0.534 - 0.481\n",
    "- Our grade: 0.771 -0.816\n",
    "\n",
    "NO mass/no mass - mass/no mass\n",
    "\n",
    "Moins bon resultat avec la séparation en deux"
   ]
  },
  {
   "cell_type": "code",
   "execution_count": 17,
   "metadata": {},
   "outputs": [],
   "source": [
    "deg0_mass=cross_validation_deg_logistic(y0_tr_mass, tX0_tr_mass, max_iters, gamma)\n",
    "deg1_mass=cross_validation_deg_logistic(y1_tr_mass, tX1_tr_mass, max_iters, gamma)\n",
    "deg2_mass=cross_validation_deg_logistic(y2_tr_mass, tX2_tr_mass, max_iters, gamma)\n",
    "deg3_mass=cross_validation_deg_logistic(y3_tr_mass, tX3_tr_mass, max_iters, gamma)\n",
    "\n",
    "deg0_nomass=cross_validation_deg_logistic(y0_tr_nomass, tX0_tr_nomass, max_iters, gamma)\n",
    "deg1_nomass=cross_validation_deg_logistic(y1_tr_nomass, tX1_tr_nomass, max_iters, gamma)\n",
    "deg2_nomass=cross_validation_deg_logistic(y2_tr_nomass, tX2_tr_nomass, max_iters, gamma)\n",
    "deg3_nomass=cross_validation_deg_logistic(y3_tr_nomass, tX3_tr_nomass, max_iters, gamma)"
   ]
  },
  {
   "cell_type": "code",
   "execution_count": 18,
   "metadata": {},
   "outputs": [],
   "source": [
    "tX0_tr_nomass,tX0_tr_new_nomass,tX0_te_nomass,tX0_fin_nomass=build_poly_data(tX0_tr_nomass,tX0_tr_new_nomass,tX0_te_nomass,tX0_fin_nomass,deg0_nomass)\n",
    "tX1_tr_nomass,tX1_tr_new_nomass,tX1_te_nomass,tX1_fin_nomass=build_poly_data(tX1_tr_nomass,tX1_tr_new_nomass,tX1_te_nomass,tX1_fin_nomass,deg1_nomass)\n",
    "tX2_tr_nomass,tX2_tr_new_nomass,tX2_te_nomass,tX2_fin_nomass=build_poly_data(tX2_tr_nomass,tX2_tr_new_nomass,tX2_te_nomass,tX2_fin_nomass,deg2_nomass)\n",
    "tX3_tr_nomass,tX3_tr_new_nomass,tX3_te_nomass,tX3_fin_nomass=build_poly_data(tX3_tr_nomass,tX3_tr_new_nomass,tX3_te_nomass,tX3_fin_nomass,deg3_nomass)\n",
    "\n",
    "tX0_tr_mass,tX0_tr_new_mass,tX0_te_mass,tX0_fin_mass=build_poly_data(tX0_tr_mass,tX0_tr_new_mass,tX0_te_mass,tX0_fin_mass,deg0_mass)\n",
    "tX1_tr_mass,tX1_tr_new_mass,tX1_te_mass,tX1_fin_mass=build_poly_data(tX1_tr_mass,tX1_tr_new_mass,tX1_te_mass,tX1_fin_mass,deg1_mass)\n",
    "tX2_tr_mass,tX2_tr_new_mass,tX2_te_mass,tX2_fin_mass=build_poly_data(tX2_tr_mass,tX2_tr_new_mass,tX2_te_mass,tX2_fin_mass,deg2_mass)\n",
    "tX3_tr_mass,tX3_tr_new_mass,tX3_te_mass,tX3_fin_mass=build_poly_data(tX3_tr_mass,tX3_tr_new_mass,tX3_te_mass,tX3_fin_mass,deg3_mass)"
   ]
  },
  {
   "cell_type": "code",
   "execution_count": 19,
   "metadata": {},
   "outputs": [
    {
     "name": "stdout",
     "output_type": "stream",
     "text": [
      "0.8157212939725772\n"
     ]
    }
   ],
   "source": [
    "init_w0_mass=np.zeros(tX0_tr_mass.shape[1])\n",
    "init_w1_mass=np.zeros(tX1_tr_mass.shape[1])\n",
    "init_w2_mass=np.zeros(tX2_tr_mass.shape[1])\n",
    "init_w3_mass=np.zeros(tX3_tr_mass.shape[1])\n",
    "\n",
    "init_w0_nomass=np.zeros(tX0_tr_nomass.shape[1])\n",
    "init_w1_nomass=np.zeros(tX1_tr_nomass.shape[1])\n",
    "init_w2_nomass=np.zeros(tX2_tr_nomass.shape[1])\n",
    "init_w3_nomass=np.zeros(tX3_tr_nomass.shape[1])\n",
    "\n",
    "w0_mass, _ = logistic_regression(y0_tr_new_mass, tX0_tr_new_mass,init_w0_mass, max_iters, gamma)\n",
    "w1_mass, _ = logistic_regression(y1_tr_new_mass, tX1_tr_new_mass,init_w1_mass, max_iters, gamma)\n",
    "w2_mass, _ = logistic_regression(y2_tr_new_mass, tX2_tr_new_mass,init_w2_mass, max_iters, gamma)\n",
    "w3_mass, _ = logistic_regression(y3_tr_new_mass, tX3_tr_new_mass,init_w3_mass, max_iters, gamma)\n",
    "\n",
    "w0_nomass, _ = logistic_regression(y0_tr_new_nomass, tX0_tr_new_nomass,init_w0_nomass, max_iters, gamma)\n",
    "w1_nomass, _ = logistic_regression(y1_tr_new_nomass, tX1_tr_new_nomass,init_w1_nomass, max_iters, gamma)\n",
    "w2_nomass, _ = logistic_regression(y2_tr_new_nomass, tX2_tr_new_nomass,init_w2_nomass, max_iters, gamma)\n",
    "w3_nomass, _ = logistic_regression(y3_tr_new_nomass, tX3_tr_new_nomass,init_w3_nomass, max_iters, gamma)\n",
    "\n",
    "\n",
    "y0_pred_mass = predict_labels(w0_mass, tX0_te_mass)\n",
    "y1_pred_mass = predict_labels(w1_mass, tX1_te_mass)\n",
    "y2_pred_mass = predict_labels(w2_mass, tX2_te_mass)\n",
    "y3_pred_mass = predict_labels(w3_mass, tX3_te_mass)\n",
    "\n",
    "y0_pred_nomass = predict_labels(w0_nomass, tX0_te_nomass)\n",
    "y1_pred_nomass = predict_labels(w1_nomass, tX1_te_nomass)\n",
    "y2_pred_nomass = predict_labels(w2_nomass, tX2_te_nomass)\n",
    "y3_pred_nomass = predict_labels(w3_nomass, tX3_te_nomass)\n",
    "\n",
    "\n",
    "grades = [0., 0., 0., 0., 0., 0., 0., 0.]\n",
    "res0_mass = np.where(y0_te_mass[:,] == y0_pred_mass[:,], 1, 0)\n",
    "res1_mass = np.where(y1_te_mass[:,] == y1_pred_mass[:,], 1, 0)\n",
    "res2_mass = np.where(y2_te_mass[:,] == y2_pred_mass[:,], 1, 0)\n",
    "res3_mass = np.where(y3_te_mass[:,] == y3_pred_mass[:,], 1, 0)\n",
    "\n",
    "grades[0] = np.mean(res0_mass)\n",
    "grades[1] = np.mean(res1_mass)\n",
    "grades[2] = np.mean(res2_mass)\n",
    "grades[3] = np.mean(res3_mass)\n",
    "\n",
    "res0_nomass = np.where(y0_te_nomass[:,] == y0_pred_nomass[:,], 1, 0)\n",
    "res1_nomass = np.where(y1_te_nomass[:,] == y1_pred_nomass[:,], 1, 0)\n",
    "res2_nomass = np.where(y2_te_nomass[:,] == y2_pred_nomass[:,], 1, 0)\n",
    "res3_nomass = np.where(y3_te_nomass[:,] == y3_pred_nomass[:,], 1, 0)\n",
    "\n",
    "grades[4] = np.mean(res0_nomass)\n",
    "grades[5] = np.mean(res1_nomass)\n",
    "grades[6] = np.mean(res2_nomass)\n",
    "grades[7] = np.mean(res3_nomass)\n",
    "\n",
    "grade = np.mean(grades)\n",
    "\n",
    "print(grade)"
   ]
  },
  {
   "cell_type": "code",
   "execution_count": 23,
   "metadata": {},
   "outputs": [],
   "source": [
    "\n",
    "w0_mass, _ = logistic_regression(y0_tr_mass, tX0_tr_mass,init_w0_mass, max_iters, gamma)\n",
    "w1_mass, _ = logistic_regression(y1_tr_mass, tX1_tr_mass,init_w1_mass, max_iters, gamma)\n",
    "w2_mass, _ = logistic_regression(y2_tr_mass, tX2_tr_mass,init_w2_mass, max_iters, gamma)\n",
    "w3_mass, _ = logistic_regression(y3_tr_mass, tX3_tr_mass,init_w3_mass, max_iters, gamma)\n",
    "\n",
    "w0_nomass, _ = logistic_regression(y0_tr_nomass, tX0_tr_nomass,init_w0_nomass, max_iters, gamma)\n",
    "w1_nomass, _ = logistic_regression(y1_tr_nomass, tX1_tr_nomass,init_w1_nomass, max_iters, gamma)\n",
    "w2_nomass, _ = logistic_regression(y2_tr_nomass, tX2_tr_nomass,init_w2_nomass, max_iters, gamma)\n",
    "w3_nomass, _ = logistic_regression(y3_tr_nomass, tX3_tr_nomass,init_w3_nomass, max_iters, gamma)\n",
    "\n",
    "\n",
    "\n",
    "y0_pred_mass = predict_labels(w0_mass, tX0_fin_mass)\n",
    "y1_pred_mass = predict_labels(w1_mass, tX1_fin_mass)\n",
    "y2_pred_mass = predict_labels(w2_mass, tX2_fin_mass)\n",
    "y3_pred_mass = predict_labels(w3_mass, tX3_fin_mass)\n",
    "\n",
    "y0_pred_nomass = predict_labels(w0_nomass, tX0_fin_nomass)\n",
    "y1_pred_nomass = predict_labels(w1_nomass, tX1_fin_nomass)\n",
    "y2_pred_nomass = predict_labels(w2_nomass, tX2_fin_nomass)\n",
    "y3_pred_nomass = predict_labels(w3_nomass, tX3_fin_nomass)\n"
   ]
  },
  {
   "cell_type": "code",
   "execution_count": 24,
   "metadata": {},
   "outputs": [],
   "source": [
    "y_pred = np.concatenate([y0_pred_mass, y1_pred_mass, y2_pred_mass, y3_pred_mass,y0_pred_nomass, y1_pred_nomass, y2_pred_nomass, y3_pred_nomass])\n",
    "ids_pred = np.concatenate([ids0_fin_mass, ids1_fin_mass, ids2_fin_mass, ids3_fin_mass,ids0_fin_nomass, ids1_fin_nomass, ids2_fin_nomass, ids3_fin_nomass])\n",
    "OUTPUT_PATH = 'results_logistic_ext_sep.csv' \n",
    "create_csv_submission(ids_pred, y_pred, OUTPUT_PATH)"
   ]
  }
 ],
 "metadata": {
  "anaconda-cloud": {},
  "kernelspec": {
   "display_name": "Python 3",
   "language": "python",
   "name": "python3"
  },
  "language_info": {
   "codemirror_mode": {
    "name": "ipython",
    "version": 3
   },
   "file_extension": ".py",
   "mimetype": "text/x-python",
   "name": "python",
   "nbconvert_exporter": "python",
   "pygments_lexer": "ipython3",
   "version": "3.7.3"
  }
 },
 "nbformat": 4,
 "nbformat_minor": 1
}
