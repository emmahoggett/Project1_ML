{
 "cells": [
  {
   "cell_type": "code",
   "execution_count": 26,
   "metadata": {},
   "outputs": [
    {
     "name": "stdout",
     "output_type": "stream",
     "text": [
      "The autoreload extension is already loaded. To reload it, use:\n",
      "  %reload_ext autoreload\n"
     ]
    }
   ],
   "source": [
    "# Useful starting lines\n",
    "%matplotlib inline\n",
    "import numpy as np\n",
    "import matplotlib.pyplot as plt\n",
    "%load_ext autoreload\n",
    "%autoreload 2"
   ]
  },
  {
   "cell_type": "markdown",
   "metadata": {},
   "source": [
    "## Load the training data into feature matrix, class labels, and event ids:"
   ]
  },
  {
   "cell_type": "code",
   "execution_count": 28,
   "metadata": {},
   "outputs": [],
   "source": [
    "from proj1_helpers import *\n",
    "from implementation import*\n",
    "\n",
    "DATA_TRAIN_PATH = \"train.csv\" # TODO: download train data and supply path here \n",
    "y, tX, ids = load_csv_data(DATA_TRAIN_PATH)"
   ]
  },
  {
   "cell_type": "markdown",
   "metadata": {},
   "source": [
    "## Do your thing crazy machine learning thing here :) ..."
   ]
  },
  {
   "cell_type": "code",
   "execution_count": 17,
   "metadata": {},
   "outputs": [
    {
     "name": "stdout",
     "output_type": "stream",
     "text": [
      "shape of x (250000, 30)\n",
      "shape of y (250000,)\n",
      "shape of ids (250000,)\n"
     ]
    }
   ],
   "source": [
    "print(\"shape of x {}\".format(tX.shape))\n",
    "print(\"shape of y {}\".format(y.shape))\n",
    "print(\"shape of ids {}\".format(ids.shape))"
   ]
  },
  {
   "cell_type": "code",
   "execution_count": 18,
   "metadata": {},
   "outputs": [],
   "source": [
    "#Separate the data\n",
    "N = tX.shape[0]\n",
    "tX0 = [] #data from collision creating 0 particules\n",
    "y0 = []\n",
    "ids0 = []\n",
    "tX1 = []\n",
    "y1 = []\n",
    "ids1 = []\n",
    "tX2 = []\n",
    "y2 = []\n",
    "ids2 = []\n",
    "tX3 = []\n",
    "y3 = []\n",
    "ids3 = []\n",
    "for i in range(N):\n",
    "    if (tX[i,22] == 0):\n",
    "        a = np.concatenate((tX[1,0:4], tX[1,7:12], tX[1,13:23], tX[1,29:30]))\n",
    "        tX0.append(a)\n",
    "        y0.append(y[i])\n",
    "        ids0.append(ids[i])\n",
    "    elif (tX[i,22] == 1):\n",
    "        a = np.concatenate((tX[1,0:4], tX[1,7:12], tX[1,13:26], tX[1,29:30]))\n",
    "        tX1.append(a)\n",
    "        y1.append(y[i])\n",
    "        ids1.append(ids[i])\n",
    "    elif (tX[i,22] == 2):\n",
    "        tX2.append(tX[i,:])\n",
    "        y2.append(y[i])\n",
    "        ids2.append(ids[i])\n",
    "    elif (tX[i,22] == 3):\n",
    "        tX3.append(tX[i,:])\n",
    "        y3.append(y[i])\n",
    "        ids3.append(ids[i])\n",
    "tX0 = np.asarray(tX0)\n",
    "y0 = np.asarray(y0)\n",
    "ids0 = np.asarray(ids0)\n",
    "tX1 = np.asarray(tX1)\n",
    "y1 = np.asarray(y1)\n",
    "ids1 = np.asarray(ids1)\n",
    "tX2 = np.asarray(tX2)\n",
    "y2 = np.asarray(y2)\n",
    "ids2 = np.asarray(ids2)\n",
    "tX3 = np.asarray(tX3)\n",
    "y3 = np.asarray(y3)\n",
    "ids3 = np.asarray(ids3)"
   ]
  },
  {
   "cell_type": "code",
   "execution_count": 19,
   "metadata": {
    "scrolled": true
   },
   "outputs": [
    {
     "name": "stdout",
     "output_type": "stream",
     "text": [
      "shape of x0 (99913, 20)\n",
      "shape of y0 (99913,)\n",
      "shape of ids0 (99913,)\n",
      "shape of x1 (77544, 23)\n",
      "shape of y1 (77544,)\n",
      "shape of ids1 (77544,)\n",
      "shape of x2 (50379, 30)\n",
      "shape of y2 (50379,)\n",
      "shape of ids2 (50379,)\n",
      "shape of x3 (22164, 30)\n",
      "shape of y3 (22164,)\n",
      "shape of ids3 (22164,)\n"
     ]
    }
   ],
   "source": [
    "print(\"shape of x0 {}\".format(tX0.shape))\n",
    "print(\"shape of y0 {}\".format(y0.shape))\n",
    "print(\"shape of ids0 {}\".format(ids0.shape))\n",
    "print(\"shape of x1 {}\".format(tX1.shape))\n",
    "print(\"shape of y1 {}\".format(y1.shape))\n",
    "print(\"shape of ids1 {}\".format(ids1.shape))\n",
    "print(\"shape of x2 {}\".format(tX2.shape))\n",
    "print(\"shape of y2 {}\".format(y2.shape))\n",
    "print(\"shape of ids2 {}\".format(ids2.shape))\n",
    "print(\"shape of x3 {}\".format(tX3.shape))\n",
    "print(\"shape of y3 {}\".format(y3.shape))\n",
    "print(\"shape of ids3 {}\".format(ids3.shape))"
   ]
  },
  {
   "cell_type": "code",
   "execution_count": 20,
   "metadata": {},
   "outputs": [
    {
     "ename": "NameError",
     "evalue": "name 'np' is not defined",
     "output_type": "error",
     "traceback": [
      "\u001b[0;31m---------------------------------------------------------------------------\u001b[0m",
      "\u001b[0;31mNameError\u001b[0m                                 Traceback (most recent call last)",
      "\u001b[0;32m<ipython-input-20-defe24176645>\u001b[0m in \u001b[0;36m<module>\u001b[0;34m\u001b[0m\n\u001b[1;32m      6\u001b[0m \u001b[0;31m# Start gradient descent.\u001b[0m\u001b[0;34m\u001b[0m\u001b[0;34m\u001b[0m\u001b[0;34m\u001b[0m\u001b[0m\n\u001b[1;32m      7\u001b[0m \u001b[0;31m#start_time = datetime.datetime.now()\u001b[0m\u001b[0;34m\u001b[0m\u001b[0;34m\u001b[0m\u001b[0;34m\u001b[0m\u001b[0m\n\u001b[0;32m----> 8\u001b[0;31m \u001b[0mw\u001b[0m\u001b[0;34m,\u001b[0m \u001b[0mloss\u001b[0m \u001b[0;34m=\u001b[0m \u001b[0mleast_squares\u001b[0m\u001b[0;34m(\u001b[0m\u001b[0my\u001b[0m\u001b[0;34m,\u001b[0m \u001b[0mtX\u001b[0m\u001b[0;34m)\u001b[0m\u001b[0;34m\u001b[0m\u001b[0;34m\u001b[0m\u001b[0m\n\u001b[0m\u001b[1;32m      9\u001b[0m \u001b[0mw0\u001b[0m\u001b[0;34m,\u001b[0m \u001b[0mloss0\u001b[0m \u001b[0;34m=\u001b[0m \u001b[0mleast_squares\u001b[0m\u001b[0;34m(\u001b[0m\u001b[0my0\u001b[0m\u001b[0;34m,\u001b[0m \u001b[0mtX0\u001b[0m\u001b[0;34m)\u001b[0m\u001b[0;34m\u001b[0m\u001b[0;34m\u001b[0m\u001b[0m\n\u001b[1;32m     10\u001b[0m \u001b[0mw1\u001b[0m\u001b[0;34m,\u001b[0m \u001b[0mloss1\u001b[0m \u001b[0;34m=\u001b[0m \u001b[0mleast_squares\u001b[0m\u001b[0;34m(\u001b[0m\u001b[0my1\u001b[0m\u001b[0;34m,\u001b[0m \u001b[0mtX1\u001b[0m\u001b[0;34m)\u001b[0m\u001b[0;34m\u001b[0m\u001b[0;34m\u001b[0m\u001b[0m\n",
      "\u001b[0;32m~/git_workspace/Project1_ML/implementation.py\u001b[0m in \u001b[0;36mleast_squares\u001b[0;34m(y, tx)\u001b[0m\n\u001b[1;32m     28\u001b[0m     \u001b[0mA\u001b[0m \u001b[0;34m=\u001b[0m \u001b[0mtx\u001b[0m\u001b[0;34m.\u001b[0m\u001b[0mT\u001b[0m\u001b[0;34m.\u001b[0m\u001b[0mdot\u001b[0m\u001b[0;34m(\u001b[0m\u001b[0mtx\u001b[0m\u001b[0;34m)\u001b[0m\u001b[0;34m\u001b[0m\u001b[0;34m\u001b[0m\u001b[0m\n\u001b[1;32m     29\u001b[0m     \u001b[0mb\u001b[0m \u001b[0;34m=\u001b[0m \u001b[0mtx\u001b[0m\u001b[0;34m.\u001b[0m\u001b[0mT\u001b[0m\u001b[0;34m.\u001b[0m\u001b[0mdot\u001b[0m\u001b[0;34m(\u001b[0m\u001b[0my\u001b[0m\u001b[0;34m)\u001b[0m\u001b[0;34m\u001b[0m\u001b[0;34m\u001b[0m\u001b[0m\n\u001b[0;32m---> 30\u001b[0;31m     \u001b[0mw\u001b[0m \u001b[0;34m=\u001b[0m \u001b[0mnp\u001b[0m\u001b[0;34m.\u001b[0m\u001b[0mlinalg\u001b[0m\u001b[0;34m.\u001b[0m\u001b[0msolve\u001b[0m\u001b[0;34m(\u001b[0m\u001b[0mA\u001b[0m\u001b[0;34m,\u001b[0m \u001b[0mb\u001b[0m\u001b[0;34m)\u001b[0m\u001b[0;34m\u001b[0m\u001b[0;34m\u001b[0m\u001b[0m\n\u001b[0m\u001b[1;32m     31\u001b[0m     \u001b[0merr\u001b[0m \u001b[0;34m=\u001b[0m \u001b[0my\u001b[0m \u001b[0;34m-\u001b[0m \u001b[0mtx\u001b[0m\u001b[0;34m.\u001b[0m\u001b[0mdot\u001b[0m\u001b[0;34m(\u001b[0m\u001b[0mw\u001b[0m\u001b[0;34m)\u001b[0m\u001b[0;34m\u001b[0m\u001b[0;34m\u001b[0m\u001b[0m\n\u001b[1;32m     32\u001b[0m     \u001b[0mloss\u001b[0m \u001b[0;34m=\u001b[0m \u001b[0;34m(\u001b[0m\u001b[0;36m1\u001b[0m\u001b[0;34m/\u001b[0m\u001b[0mN\u001b[0m\u001b[0;34m)\u001b[0m \u001b[0;34m*\u001b[0m \u001b[0merr\u001b[0m\u001b[0;34m.\u001b[0m\u001b[0mdot\u001b[0m\u001b[0;34m(\u001b[0m\u001b[0merr\u001b[0m\u001b[0;34m)\u001b[0m\u001b[0;34m\u001b[0m\u001b[0;34m\u001b[0m\u001b[0m\n",
      "\u001b[0;31mNameError\u001b[0m: name 'np' is not defined"
     ]
    }
   ],
   "source": [
    "from implementation import least_squares\n",
    "\n",
    "# Define the parameters of the algorithm.\n",
    "D = tX.shape[1]\n",
    "\n",
    "# Start gradient descent.\n",
    "#start_time = datetime.datetime.now()\n",
    "w, loss = least_squares(y, tX)\n",
    "w0, loss0 = least_squares(y0, tX0)\n",
    "w1, loss1 = least_squares(y1, tX1)\n",
    "w2, loss2 = least_squares(y2, tX2)\n",
    "w3, loss3 = least_squares(y3, tX3)\n",
    "#end_time = datetime.datetime.now()\n",
    "\n",
    "# Print result\n",
    "#exection_time = (end_time - start_time).total_seconds()\n",
    "#print(\"Gradient Descent: execution time={t:.3f} seconds\".format(t=exection_time))\n",
    "print(w0)\n",
    "print(w)\n",
    "#print(\"loss={l}, w0={w0}, w1={w1}\".format(l=loss, w0=w[0], w1=w[1]))"
   ]
  },
  {
   "cell_type": "markdown",
   "metadata": {},
   "source": [
    "## Generate predictions and save ouput in csv format for submission:"
   ]
  },
  {
   "cell_type": "code",
   "execution_count": 29,
   "metadata": {},
   "outputs": [],
   "source": [
    "DATA_TEST_PATH = \"test.csv\" # TODO: download train data and supply path here \n",
    "y_test, tX_test, ids_test = load_csv_data(DATA_TEST_PATH)"
   ]
  },
  {
   "cell_type": "code",
   "execution_count": 36,
   "metadata": {},
   "outputs": [],
   "source": [
    "def plot_train_test(train_errors, test_errors, lambdas, degree):\n",
    "    \"\"\"\n",
    "    train_errors, test_errors and lambas should be list (of the same size) the respective train error and test error for a given lambda,\n",
    "    * lambda[0] = 1\n",
    "    * train_errors[0] = RMSE of a ridge regression on the train set\n",
    "    * test_errors[0] = RMSE of the parameter found by ridge regression applied on the test set\n",
    "    \n",
    "    degree is just used for the title of the plot.\n",
    "    \"\"\"\n",
    "    plt.semilogx(lambdas, train_errors, color='b', marker='*', label=\"Train error\")\n",
    "    plt.semilogx(lambdas, test_errors, color='r', marker='*', label=\"Test error\")\n",
    "    plt.xlabel(\"lambda\")\n",
    "    plt.ylabel(\"RMSE\")\n",
    "    plt.title(\"Ridge regression for polynomial degree \" + str(degree))\n",
    "    leg = plt.legend(loc=1, shadow=True)\n",
    "    leg.draw_frame(False)\n",
    "    plt.savefig(\"ridge_regression\")"
   ]
  },
  {
   "cell_type": "code",
   "execution_count": 47,
   "metadata": {},
   "outputs": [
    {
     "name": "stdout",
     "output_type": "stream",
     "text": [
      "proportion=0.5, degree=4, lambda=0.000, Training RMSE=0.340, Testing RMSE=0.973\n",
      "proportion=0.5, degree=4, lambda=0.000, Training RMSE=0.340, Testing RMSE=0.973\n",
      "proportion=0.5, degree=4, lambda=0.000, Training RMSE=0.340, Testing RMSE=0.973\n",
      "proportion=0.5, degree=4, lambda=0.000, Training RMSE=0.340, Testing RMSE=0.973\n",
      "proportion=0.5, degree=4, lambda=0.000, Training RMSE=0.340, Testing RMSE=0.973\n",
      "proportion=0.5, degree=4, lambda=0.000, Training RMSE=0.340, Testing RMSE=0.973\n",
      "proportion=0.5, degree=4, lambda=0.000, Training RMSE=0.340, Testing RMSE=0.973\n",
      "proportion=0.5, degree=4, lambda=0.000, Training RMSE=0.340, Testing RMSE=0.973\n",
      "proportion=0.5, degree=4, lambda=0.000, Training RMSE=0.340, Testing RMSE=0.973\n",
      "proportion=0.5, degree=4, lambda=0.000, Training RMSE=0.340, Testing RMSE=0.973\n",
      "proportion=0.5, degree=4, lambda=0.001, Training RMSE=0.340, Testing RMSE=0.972\n",
      "proportion=0.5, degree=4, lambda=0.007, Training RMSE=0.340, Testing RMSE=0.968\n",
      "proportion=0.5, degree=4, lambda=0.037, Training RMSE=0.342, Testing RMSE=0.960\n",
      "proportion=0.5, degree=4, lambda=0.193, Training RMSE=0.348, Testing RMSE=0.952\n",
      "proportion=0.5, degree=4, lambda=1.000, Training RMSE=0.354, Testing RMSE=0.949\n"
     ]
    },
    {
     "data": {
      "image/png": "[encoded data removed]",
      "text/plain": [
       "<Figure size 432x288 with 1 Axes>"
      ]
     },
     "metadata": {
      "needs_background": "light"
     },
     "output_type": "display_data"
    }
   ],
   "source": [
    "# define parameter\n",
    "lambdas = np.logspace(-10, 0, 15)\n",
    "degree=4\n",
    "ratio=0.5\n",
    "# ridge regression with different lambda\n",
    "rmse_tr = []\n",
    "rmse_te = []\n",
    "for ind, lambda_ in enumerate(lambdas):\n",
    "    # ridge regression\n",
    "    weight = ridge_regression(y, tX, lambda_)\n",
    "    rmse_tr.append(compute_loss(y, tX, weight))\n",
    "    rmse_te.append(compute_loss(y_test, tX_test, weight))\n",
    "\n",
    "    print(\"proportion={p}, degree={d}, lambda={l:.3f}, Training RMSE={tr:.3f}, Testing RMSE={te:.3f}\".format(\n",
    "           p=ratio, d=degree, l=lambda_, tr=rmse_tr[ind], te=rmse_te[ind]))\n",
    "plot_train_test(rmse_tr, rmse_te, lambdas, degree)"
   ]
  },
  {
   "cell_type": "code",
   "execution_count": null,
   "metadata": {},
   "outputs": [],
   "source": [
    "OUTPUT_PATH = 'results.csv' # TODO: fill in desired name of output file for submission\n",
    "y_pred = predict_labels(w, tX_test)\n",
    "create_csv_submission(ids_test, y_pred, OUTPUT_PATH)"
   ]
  },
  {
   "cell_type": "code",
   "execution_count": null,
   "metadata": {},
   "outputs": [],
   "source": []
  },
  {
   "cell_type": "code",
   "execution_count": null,
   "metadata": {},
   "outputs": [],
   "source": []
  }
 ],
 "metadata": {
  "anaconda-cloud": {},
  "kernelspec": {
   "display_name": "Python 3",
   "language": "python",
   "name": "python3"
  },
  "language_info": {
   "codemirror_mode": {
    "name": "ipython",
    "version": 3
   },
   "file_extension": ".py",
   "mimetype": "text/x-python",
   "name": "python",
   "nbconvert_exporter": "python",
   "pygments_lexer": "ipython3",
   "version": "3.7.3"
  }
 },
 "nbformat": 4,
 "nbformat_minor": 1
}
