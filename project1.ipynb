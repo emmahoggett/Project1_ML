{
 "cells": [
  {
   "cell_type": "code",
   "execution_count": 1,
   "metadata": {},
   "outputs": [],
   "source": [
    "# Useful starting lines\n",
    "%matplotlib inline\n",
    "import numpy as np\n",
    "import matplotlib.pyplot as plt\n",
    "%load_ext autoreload\n",
    "%autoreload 2"
   ]
  },
  {
   "cell_type": "markdown",
   "metadata": {},
   "source": [
    "## Load the training data into feature matrix, class labels, and event ids:"
   ]
  },
  {
   "cell_type": "code",
   "execution_count": 21,
   "metadata": {},
   "outputs": [],
   "source": [
    "from proj1_helpers import *\n",
    "DATA_TRAIN_PATH = \"train.csv\" # download train data and supply path\n",
    "y, tX, ids = load_csv_data(DATA_TRAIN_PATH)"
   ]
  },
  {
   "cell_type": "markdown",
   "metadata": {},
   "source": [
    "## Implementation"
   ]
  },
  {
   "cell_type": "code",
   "execution_count": 22,
   "metadata": {},
   "outputs": [
    {
     "name": "stdout",
     "output_type": "stream",
     "text": [
      "shape of x (250000, 30)\n",
      "shape of y (250000,)\n",
      "shape of ids (250000,)\n"
     ]
    }
   ],
   "source": [
    "print(\"shape of x {}\".format(tX.shape))\n",
    "print(\"shape of y {}\".format(y.shape))\n",
    "print(\"shape of ids {}\".format(ids.shape))"
   ]
  },
  {
   "cell_type": "code",
   "execution_count": 63,
   "metadata": {},
   "outputs": [],
   "source": [
    "from data_analysis import *\n",
    "\n",
    "##### Data analysis #####\n",
    "\n",
    "#Separate the data\n",
    "jet_num = 0\n",
    "y0, tX0, ids0, _ = extract_jet_num(jet_num, y, tX, ids)\n",
    "jet_num = 1\n",
    "y1, tX1, ids1, _ = extract_jet_num(jet_num, y, tX, ids)\n",
    "jet_num = 2\n",
    "y2, tX2, ids2, _ = extract_jet_num(jet_num, y, tX, ids)\n",
    "jet_num = 3\n",
    "y3, tX3, ids3, _ = extract_jet_num(jet_num, y, tX, ids)\n",
    "\n",
    "#Standarize the data\n",
    "#tX0 = standardize(tX0)\n",
    "#tX1 = standardize(tX1)\n",
    "#tX2 = standardize(tX2)\n",
    "#tX3 = standardize(tX3)\n"
   ]
  },
  {
   "cell_type": "code",
   "execution_count": 64,
   "metadata": {
    "scrolled": true
   },
   "outputs": [
    {
     "name": "stdout",
     "output_type": "stream",
     "text": [
      "shape of x0 (99913, 18)\n",
      "shape of y0 (99913,)\n",
      "shape of ids0 (99913,)\n",
      "shape of x1 (77544, 20)\n",
      "shape of y1 (77544,)\n",
      "shape of ids1 (77544,)\n",
      "shape of x2 (50379, 26)\n",
      "shape of y2 (50379,)\n",
      "shape of ids2 (50379,)\n",
      "shape of x3 (22164, 26)\n",
      "shape of y3 (22164,)\n",
      "shape of ids3 (22164,)\n"
     ]
    }
   ],
   "source": [
    "print(\"shape of x0 {}\".format(tX0.shape))\n",
    "print(\"shape of y0 {}\".format(y0.shape))\n",
    "print(\"shape of ids0 {}\".format(ids0.shape))\n",
    "print(\"shape of x1 {}\".format(tX1.shape))\n",
    "print(\"shape of y1 {}\".format(y1.shape))\n",
    "print(\"shape of ids1 {}\".format(ids1.shape))\n",
    "print(\"shape of x2 {}\".format(tX2.shape))\n",
    "print(\"shape of y2 {}\".format(y2.shape))\n",
    "print(\"shape of ids2 {}\".format(ids2.shape))\n",
    "print(\"shape of x3 {}\".format(tX3.shape))\n",
    "print(\"shape of y3 {}\".format(y3.shape))\n",
    "print(\"shape of ids3 {}\".format(ids3.shape))"
   ]
  },
  {
   "cell_type": "code",
   "execution_count": 65,
   "metadata": {},
   "outputs": [
    {
     "name": "stdout",
     "output_type": "stream",
     "text": [
      "[ 8.03494343e-05 -7.20202268e-03 -6.05417274e-03 -5.47559075e-04\n",
      " -1.93874699e-02  4.73451615e-04 -2.60379059e-02  3.25106299e-01\n",
      " -3.80780054e-05 -2.72775334e+00 -2.21220141e-01  9.50794096e-02\n",
      "  6.40351620e-02  2.73601302e+00 -3.31801136e-04 -9.54325146e-04\n",
      "  2.74076977e+00 -5.34165216e-04  9.73498829e-04  3.69225051e-03\n",
      "  3.54487213e-04 -5.43344614e-04 -3.30448035e-01 -1.40800496e-03\n",
      "  8.31432892e-04  1.02117270e-03 -1.68047417e-03 -5.83664775e-03\n",
      " -1.11088003e-02  2.72821328e+00]\n"
     ]
    }
   ],
   "source": [
    "from implementation import least_squares\n",
    "\n",
    "##### Machine learning #####\n",
    "\n",
    "# Define the parameters of the algorithm.\n",
    "#D = tX.shape[1]\n",
    "\n",
    "# Start gradient descent.\n",
    "w, loss = least_squares(y, tX)\n",
    "w0, loss0 = least_squares(y0, tX0)\n",
    "w1, loss1 = least_squares(y1, tX1)\n",
    "w2, loss2 = least_squares(y2, tX2)\n",
    "w3, loss3 = least_squares(y3, tX3)\n",
    "\n",
    "print(w)\n",
    "\n",
    "# Logistic regression\n",
    "# ..."
   ]
  },
  {
   "cell_type": "markdown",
   "metadata": {},
   "source": [
    "## Generate predictions and save ouput in csv format for submission:"
   ]
  },
  {
   "cell_type": "code",
   "execution_count": 66,
   "metadata": {},
   "outputs": [],
   "source": [
    "DATA_TEST_PATH = \"test.csv\" #download train data and supply path\n",
    "y_te, tX_te, ids_te = load_csv_data(DATA_TEST_PATH)"
   ]
  },
  {
   "cell_type": "code",
   "execution_count": 67,
   "metadata": {},
   "outputs": [
    {
     "name": "stdout",
     "output_type": "stream",
     "text": [
      "shape of x (568238, 30)\n",
      "shape of ids (568238,)\n"
     ]
    }
   ],
   "source": [
    "print(\"shape of x {}\".format(tX_te.shape))\n",
    "print(\"shape of ids {}\".format(ids_te.shape))"
   ]
  },
  {
   "cell_type": "code",
   "execution_count": 68,
   "metadata": {},
   "outputs": [],
   "source": [
    "from data_analysis import * \n",
    "\n",
    "##### Test on test dataset #####\n",
    "\n",
    "#Standarize the data\n",
    "#tX_te = standardize(tX_te)\n",
    "\n",
    "#Separate the data\n",
    "jet_num = 0\n",
    "y0_te, tX0_te, ids0_te, _ = extract_jet_num(jet_num, y_te, tX_te, ids_te)\n",
    "jet_num = 1\n",
    "y1_te, tX1_te, ids1_te, _ = extract_jet_num(jet_num, y_te, tX_te, ids_te)\n",
    "jet_num = 2\n",
    "y2_te, tX2_te, ids2_te, _ = extract_jet_num(jet_num, y_te, tX_te, ids_te)\n",
    "jet_num = 3\n",
    "y3_te, tX3_te, ids3_te, _ = extract_jet_num(jet_num, y_te, tX_te, ids_te)\n"
   ]
  },
  {
   "cell_type": "code",
   "execution_count": 69,
   "metadata": {},
   "outputs": [
    {
     "name": "stdout",
     "output_type": "stream",
     "text": [
      "shape of x0 (227458, 18)\n",
      "shape of ids0 (227458,)\n",
      "shape of x1 (175338, 20)\n",
      "shape of ids1 (175338,)\n",
      "shape of x2 (114648, 26)\n",
      "shape of ids2 (114648,)\n",
      "shape of x3 (50794, 26)\n",
      "shape of ids3 (50794,)\n"
     ]
    }
   ],
   "source": [
    "print(\"shape of x0 {}\".format(tX0_te.shape))\n",
    "print(\"shape of ids0 {}\".format(ids0_te.shape))\n",
    "print(\"shape of x1 {}\".format(tX1_te.shape))\n",
    "print(\"shape of ids1 {}\".format(ids1_te.shape))\n",
    "print(\"shape of x2 {}\".format(tX2_te.shape))\n",
    "print(\"shape of ids2 {}\".format(ids2_te.shape))\n",
    "print(\"shape of x3 {}\".format(tX3_te.shape))\n",
    "print(\"shape of ids3 {}\".format(ids3_te.shape))"
   ]
  },
  {
   "cell_type": "code",
   "execution_count": 70,
   "metadata": {},
   "outputs": [],
   "source": [
    "OUTPUT_PATH = 'results0.csv' #name of output file for submission\n",
    "y0_pred = predict_labels(w0, tX0_te)\n",
    "#create_csv_submission(ids0_te, y0_pred, OUTPUT_PATH)"
   ]
  },
  {
   "cell_type": "code",
   "execution_count": 71,
   "metadata": {},
   "outputs": [],
   "source": [
    "OUTPUT_PATH = 'results1.csv' # TODO: fill in desired name of output file for submission\n",
    "y1_pred = predict_labels(w1, tX1_te)\n",
    "#create_csv_submission(ids1_te, y1_pred, OUTPUT_PATH)\n",
    "#ids1 = ids1_te.reshape((ids1_te.shape[0],1))\n",
    "#y1 = y1_pred.reshape((y1_pred.shape[0],1))\n",
    "#resp1 = np.hstack((ids1, y1))"
   ]
  },
  {
   "cell_type": "code",
   "execution_count": 72,
   "metadata": {},
   "outputs": [],
   "source": [
    "OUTPUT_PATH = 'results2.csv' # TODO: fill in desired name of output file for submission\n",
    "y2_pred = predict_labels(w2, tX2_te)\n",
    "#create_csv_submission(ids2_te, y2_pred, OUTPUT_PATH)\n",
    "#ids2 = ids2_te.reshape((ids2_te.shape[0],1))\n",
    "#y2 = y2_pred.reshape((y2_pred.shape[0],1))\n",
    "#resp2 = np.hstack((ids2, y2))"
   ]
  },
  {
   "cell_type": "code",
   "execution_count": 73,
   "metadata": {},
   "outputs": [],
   "source": [
    "OUTPUT_PATH = 'results3.csv' # TODO: fill in desired name of output file for submission\n",
    "y3_pred = predict_labels(w3, tX3_te)\n",
    "#create_csv_submission(ids3_te, y3_pred, OUTPUT_PATH)\n",
    "#ids3 = ids3_te.reshape((ids3_te.shape[0],1))\n",
    "#y3 = y3_pred.reshape((y3_pred.shape[0],1))\n",
    "#resp3 = np.hstack((ids3, y3))"
   ]
  },
  {
   "cell_type": "code",
   "execution_count": 74,
   "metadata": {},
   "outputs": [],
   "source": [
    "y_pred = np.concatenate([y0_pred, y1_pred, y2_pred, y3_pred])\n",
    "ids_pred = np.concatenate([ids0_te, ids1_te, ids2_te, ids3_te])\n",
    "OUTPUT_PATH = 'results.csv' \n",
    "create_csv_submission(ids_pred, y_pred, OUTPUT_PATH)"
   ]
  },
  {
   "cell_type": "code",
   "execution_count": null,
   "metadata": {},
   "outputs": [],
   "source": []
  }
 ],
 "metadata": {
  "anaconda-cloud": {},
  "kernelspec": {
   "display_name": "Python 3",
   "language": "python",
   "name": "python3"
  },
  "language_info": {
   "codemirror_mode": {
    "name": "ipython",
    "version": 3
   },
   "file_extension": ".py",
   "mimetype": "text/x-python",
   "name": "python",
   "nbconvert_exporter": "python",
   "pygments_lexer": "ipython3",
   "version": "3.7.3"
  }
 },
 "nbformat": 4,
 "nbformat_minor": 1
}
