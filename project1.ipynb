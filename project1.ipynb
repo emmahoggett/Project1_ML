{
 "cells": [
  {
   "cell_type": "code",
   "execution_count": 24,
   "metadata": {},
   "outputs": [
    {
     "name": "stdout",
     "output_type": "stream",
     "text": [
      "The autoreload extension is already loaded. To reload it, use:\n",
      "  %reload_ext autoreload\n"
     ]
    }
   ],
   "source": [
    "# Useful starting lines\n",
    "%matplotlib inline\n",
    "import numpy as np\n",
    "import matplotlib.pyplot as plt\n",
    "%load_ext autoreload\n",
    "%autoreload 2"
   ]
  },
  {
   "cell_type": "markdown",
   "metadata": {},
   "source": [
    "## Load the training data into feature matrix, class labels, and event ids:"
   ]
  },
  {
   "cell_type": "code",
   "execution_count": 63,
   "metadata": {},
   "outputs": [],
   "source": [
    "from proj1_helpers import *\n",
    "DATA_TRAIN_PATH = \"train.csv\" # download train data and supply path\n",
    "y, tX, ids = load_csv_data(DATA_TRAIN_PATH)"
   ]
  },
  {
   "cell_type": "markdown",
   "metadata": {},
   "source": [
    "## Implementation"
   ]
  },
  {
   "cell_type": "code",
   "execution_count": 64,
   "metadata": {},
   "outputs": [
    {
     "name": "stdout",
     "output_type": "stream",
     "text": [
      "shape of x (250000, 30)\n",
      "shape of y (250000,)\n",
      "shape of ids (250000,)\n"
     ]
    }
   ],
   "source": [
    "print(\"shape of x {}\".format(tX.shape))\n",
    "print(\"shape of y {}\".format(y.shape))\n",
    "print(\"shape of ids {}\".format(ids.shape))"
   ]
  },
  {
   "cell_type": "code",
   "execution_count": 74,
   "metadata": {},
   "outputs": [],
   "source": [
    "from data_analysis import *\n",
    "\n",
    "##### Data analysis #####\n",
    "\n",
    "#Separate the data\n",
    "jet_num = 0\n",
    "y0, tX0, ids0, _ = extract_jet_num(jet_num, y, tX, ids)\n",
    "jet_num = 1\n",
    "y1, tX1, ids1, _ = extract_jet_num(jet_num, y, tX, ids)\n",
    "jet_num = 2\n",
    "y2, tX2, ids2, _ = extract_jet_num(jet_num, y, tX, ids)\n",
    "jet_num = 3\n",
    "y3, tX3, ids3, _ = extract_jet_num(jet_num, y, tX, ids)\n",
    "\n",
    "#Standarize the data\n",
    "# tX0, m0, std0 = standardize(tX0)\n",
    "# tX1, m1, std1 = standardize(tX1)\n",
    "# tX2, m2, std2 = standardize(tX2)\n",
    "# tX3, m3, std3 = standardize(tX3)\n"
   ]
  },
  {
   "cell_type": "code",
   "execution_count": 75,
   "metadata": {
    "scrolled": true
   },
   "outputs": [
    {
     "name": "stdout",
     "output_type": "stream",
     "text": [
      "shape of x0 (99913, 21)\n",
      "shape of y0 (99913,)\n",
      "shape of ids0 (99913,)\n",
      "shape of x1 (77544, 24)\n",
      "shape of y1 (77544,)\n",
      "shape of ids1 (77544,)\n",
      "shape of x2 (50379, 30)\n",
      "shape of y2 (50379,)\n",
      "shape of ids2 (50379,)\n",
      "shape of x3 (22164, 30)\n",
      "shape of y3 (22164,)\n",
      "shape of ids3 (22164,)\n"
     ]
    }
   ],
   "source": [
    "print(\"shape of x0 {}\".format(tX0.shape))\n",
    "print(\"shape of y0 {}\".format(y0.shape))\n",
    "print(\"shape of ids0 {}\".format(ids0.shape))\n",
    "print(\"shape of x1 {}\".format(tX1.shape))\n",
    "print(\"shape of y1 {}\".format(y1.shape))\n",
    "print(\"shape of ids1 {}\".format(ids1.shape))\n",
    "print(\"shape of x2 {}\".format(tX2.shape))\n",
    "print(\"shape of y2 {}\".format(y2.shape))\n",
    "print(\"shape of ids2 {}\".format(ids2.shape))\n",
    "print(\"shape of x3 {}\".format(tX3.shape))\n",
    "print(\"shape of y3 {}\".format(y3.shape))\n",
    "print(\"shape of ids3 {}\".format(ids3.shape))"
   ]
  },
  {
   "cell_type": "code",
   "execution_count": 123,
   "metadata": {},
   "outputs": [
    {
     "name": "stdout",
     "output_type": "stream",
     "text": [
      "67.34150657750801\n",
      "11.497569953977356\n",
      "4.750810162102793\n"
     ]
    },
    {
     "data": {
      "image/png": "[encoded data removed]",
      "text/plain": [
       "<Figure size 432x288 with 1 Axes>"
      ]
     },
     "metadata": {
      "needs_background": "light"
     },
     "output_type": "display_data"
    }
   ],
   "source": [
    "from implementation import *\n",
    "from optimization import * \n",
    "\n",
    "##### Machine learning #####\n",
    "\n",
    "# Define the parameters of the algorithm.\n",
    "#D = tX.shape[1]\n",
    "\n",
    "# Start gradient descent.\n",
    "w, loss = least_squares(y, tX)\n",
    "w0, loss0 = least_squares(y0, tX0)\n",
    "w1, loss1 = least_squares(y1, tX1)\n",
    "w2, loss2 = least_squares(y2, tX2)\n",
    "w3, loss3 = least_squares(y3, tX3)\n",
    "\n",
    "# print(w)\n",
    "\n",
    "##### Cross validation #####\n",
    "\n",
    "best_lambda0 = cross_validation_lambda(y0, tX0)\n",
    "print(best_lambda0)\n",
    "\n",
    "best_lambda1 = cross_validation_lambda(y1, tX1)\n",
    "print(best_lambda1)\n",
    "\n",
    "best_lambda2 = cross_validation_lambda(y2, tX2)\n",
    "print(best_lambda2)\n",
    "\n",
    "# Logistic regression\n",
    "# ..."
   ]
  },
  {
   "cell_type": "markdown",
   "metadata": {},
   "source": [
    "## Generate predictions and save ouput in csv format for submission:"
   ]
  },
  {
   "cell_type": "code",
   "execution_count": 77,
   "metadata": {},
   "outputs": [],
   "source": [
    "DATA_TEST_PATH = \"test.csv\" #download train data and supply path\n",
    "y_te, tX_te, ids_te = load_csv_data(DATA_TEST_PATH)"
   ]
  },
  {
   "cell_type": "code",
   "execution_count": 78,
   "metadata": {},
   "outputs": [
    {
     "name": "stdout",
     "output_type": "stream",
     "text": [
      "shape of x (568238, 30)\n",
      "shape of ids (568238,)\n"
     ]
    }
   ],
   "source": [
    "print(\"shape of x {}\".format(tX_te.shape))\n",
    "print(\"shape of ids {}\".format(ids_te.shape))"
   ]
  },
  {
   "cell_type": "code",
   "execution_count": 79,
   "metadata": {},
   "outputs": [],
   "source": [
    "from data_analysis import * \n",
    "\n",
    "##### Test on test dataset #####\n",
    "\n",
    "#Separate the data\n",
    "jet_num = 0\n",
    "y0_te, tX0_te, ids0_te, _ = extract_jet_num(jet_num, y_te, tX_te, ids_te)\n",
    "jet_num = 1\n",
    "y1_te, tX1_te, ids1_te, _ = extract_jet_num(jet_num, y_te, tX_te, ids_te)\n",
    "jet_num = 2\n",
    "y2_te, tX2_te, ids2_te, _ = extract_jet_num(jet_num, y_te, tX_te, ids_te)\n",
    "jet_num = 3\n",
    "y3_te, tX3_te, ids3_te, _ = extract_jet_num(jet_num, y_te, tX_te, ids_te)\n",
    "\n",
    "#Standarize the data\n",
    "#tX0_te = standardize_te(tX0_te, m0, std0)\n",
    "#tX1_te = standardize_te(tX1_te, m1, std1)\n",
    "#tX2_te = standardize_te(tX2_te, m2, std2)\n",
    "#tX3_te = standardize_te(tX3_te, m3, std3)\n"
   ]
  },
  {
   "cell_type": "code",
   "execution_count": 80,
   "metadata": {},
   "outputs": [
    {
     "name": "stdout",
     "output_type": "stream",
     "text": [
      "shape of x0 (227458, 21)\n",
      "shape of ids0 (227458,)\n",
      "shape of x1 (175338, 24)\n",
      "shape of ids1 (175338,)\n",
      "shape of x2 (114648, 30)\n",
      "shape of ids2 (114648,)\n",
      "shape of x3 (50794, 30)\n",
      "shape of ids3 (50794,)\n"
     ]
    }
   ],
   "source": [
    "print(\"shape of x0 {}\".format(tX0_te.shape))\n",
    "print(\"shape of ids0 {}\".format(ids0_te.shape))\n",
    "print(\"shape of x1 {}\".format(tX1_te.shape))\n",
    "print(\"shape of ids1 {}\".format(ids1_te.shape))\n",
    "print(\"shape of x2 {}\".format(tX2_te.shape))\n",
    "print(\"shape of ids2 {}\".format(ids2_te.shape))\n",
    "print(\"shape of x3 {}\".format(tX3_te.shape))\n",
    "print(\"shape of ids3 {}\".format(ids3_te.shape))"
   ]
  },
  {
   "cell_type": "code",
   "execution_count": 81,
   "metadata": {},
   "outputs": [],
   "source": [
    "OUTPUT_PATH = 'results0.csv' #name of output file for submission\n",
    "y0_pred = predict_labels(w0, tX0_te)\n",
    "OUTPUT_PATH = 'results1.csv'\n",
    "y1_pred = predict_labels(w1, tX1_te)\n",
    "OUTPUT_PATH = 'results2.csv'\n",
    "y2_pred = predict_labels(w2, tX2_te)\n",
    "OUTPUT_PATH = 'results3.csv'\n",
    "y3_pred = predict_labels(w3, tX3_te)"
   ]
  },
  {
   "cell_type": "code",
   "execution_count": 82,
   "metadata": {},
   "outputs": [],
   "source": [
    "y_pred = np.concatenate([y0_pred, y1_pred, y2_pred, y3_pred])\n",
    "ids_pred = np.concatenate([ids0_te, ids1_te, ids2_te, ids3_te])\n",
    "OUTPUT_PATH = 'results.csv' \n",
    "create_csv_submission(ids_pred, y_pred, OUTPUT_PATH)"
   ]
  },
  {
   "cell_type": "code",
   "execution_count": null,
   "metadata": {},
   "outputs": [],
   "source": []
  }
 ],
 "metadata": {
  "anaconda-cloud": {},
  "kernelspec": {
   "display_name": "Python 3",
   "language": "python",
   "name": "python3"
  },
  "language_info": {
   "codemirror_mode": {
    "name": "ipython",
    "version": 3
   },
   "file_extension": ".py",
   "mimetype": "text/x-python",
   "name": "python",
   "nbconvert_exporter": "python",
   "pygments_lexer": "ipython3",
   "version": "3.7.3"
  }
 },
 "nbformat": 4,
 "nbformat_minor": 1
}
