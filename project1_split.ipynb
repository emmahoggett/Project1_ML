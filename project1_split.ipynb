{
 "cells": [
  {
   "cell_type": "code",
   "execution_count": 17,
   "metadata": {},
   "outputs": [
    {
     "name": "stdout",
     "output_type": "stream",
     "text": [
      "The autoreload extension is already loaded. To reload it, use:\n",
      "  %reload_ext autoreload\n"
     ]
    }
   ],
   "source": [
    "# Useful starting lines\n",
    "%matplotlib inline\n",
    "import numpy as np\n",
    "import matplotlib.pyplot as plt\n",
    "%load_ext autoreload\n",
    "%autoreload 2"
   ]
  },
  {
   "cell_type": "markdown",
   "metadata": {},
   "source": [
    "## Load the training data into feature matrix, class labels, and event ids:"
   ]
  },
  {
   "cell_type": "code",
   "execution_count": 27,
   "metadata": {},
   "outputs": [],
   "source": [
    "from proj1_helpers import *\n",
    "\n",
    "DATA_TRAIN_PATH = \"data/train.csv\" # download train data and supply path\n",
    "y_tr, tX_tr, ids_tr = load_csv_data(DATA_TRAIN_PATH)\n",
    "\n",
    "DATA_TEST_PATH = \"data/test.csv\" #download train data and supply path\n",
    "y_fin, tX_fin, ids_fin = load_csv_data(DATA_TEST_PATH)"
   ]
  },
  {
   "cell_type": "markdown",
   "metadata": {},
   "source": [
    "## Implementation"
   ]
  },
  {
   "cell_type": "code",
   "execution_count": 28,
   "metadata": {},
   "outputs": [],
   "source": [
    "from data_analysis import *\n",
    "\n",
    "##### Data analysis #####\n",
    "\n",
    "#Separate the data\n",
    "jet_num = 0\n",
    "y0_tr, tX0_tr, ids0_tr, y0_fin, tX0_fin, ids0_fin = data_analysis(jet_num, y_tr, tX_tr, ids_tr, y_fin, tX_fin, ids_fin)\n",
    "jet_num = 1\n",
    "y1_tr, tX1_tr, ids1_tr, y1_fin, tX1_fin, ids1_fin = data_analysis(jet_num, y_tr, tX_tr, ids_tr, y_fin, tX_fin, ids_fin)\n",
    "jet_num = 2\n",
    "y2_tr, tX2_tr, ids2_tr, y2_fin, tX2_fin, ids2_fin = data_analysis(jet_num, y_tr, tX_tr, ids_tr, y_fin, tX_fin, ids_fin)\n",
    "jet_num = 3\n",
    "y3_tr, tX3_tr, ids3_tr, y3_fin, tX3_fin, ids3_fin = data_analysis(jet_num, y_tr, tX_tr, ids_tr, y_fin, tX_fin, ids_fin)\n"
   ]
  },
  {
   "cell_type": "code",
   "execution_count": 29,
   "metadata": {},
   "outputs": [],
   "source": [
    "# Split the data into train (80%) and test (20%) parts \n",
    "ratio = 0.8;\n",
    "tX0_tr, tX0_te, y0_tr, y0_te, ids0_tr, ids0_te = split_data(tX0_tr, y0_tr, ids0_tr, ratio)\n",
    "tX1_tr, tX1_te, y1_tr, y1_te, ids1_tr, ids1_te = split_data(tX1_tr, y1_tr, ids1_tr, ratio)\n",
    "tX2_tr, tX2_te, y2_tr, y2_te, ids2_tr, ids2_te = split_data(tX2_tr, y2_tr, ids2_tr, ratio)\n",
    "tX3_tr, tX3_te, y3_tr, y3_te, ids3_tr, ids3_te = split_data(tX3_tr, y3_tr, ids3_tr, ratio)"
   ]
  },
  {
   "cell_type": "code",
   "execution_count": 30,
   "metadata": {
    "scrolled": false
   },
   "outputs": [
    {
     "name": "stdout",
     "output_type": "stream",
     "text": [
      "3.0538555088334185\n",
      "25.353644939701166\n",
      "0.003944206059437656\n",
      "0.0004750810162102803\n"
     ]
    },
    {
     "data": {
      "image/png": "[encoded data removed]",
      "text/plain": [
       "<Figure size 432x288 with 1 Axes>"
      ]
     },
     "metadata": {
      "needs_background": "light"
     },
     "output_type": "display_data"
    }
   ],
   "source": [
    "from implementation import *\n",
    "from optimization import * \n",
    "\n",
    "##### TRAINING #####\n",
    "##### Cross validation #####\n",
    "\n",
    "best_lambdas = [0., 0., 0., 0.,]\n",
    "\n",
    "best_lambdas[0] = cross_validation_lambda(y0_tr, tX0_tr)\n",
    "print(best_lambdas[0])\n",
    "\n",
    "best_lambdas[1] = cross_validation_lambda(y1_tr, tX1_tr)\n",
    "print(best_lambdas[1])\n",
    "\n",
    "best_lambdas[2] = cross_validation_lambda(y2_tr, tX2_tr)\n",
    "print(best_lambdas[2])\n",
    "\n",
    "best_lambdas[3] = cross_validation_lambda(y3_tr, tX3_tr)\n",
    "print(best_lambdas[3])\n"
   ]
  },
  {
   "cell_type": "code",
   "execution_count": 31,
   "metadata": {},
   "outputs": [],
   "source": [
    "#best_lambdas = [100, 100, 100, 100]\n",
    "\n",
    "##### Ridge regression #####\n",
    "\n",
    "w0, loss0 = ridge_regression(y0_tr, tX0_tr, best_lambdas[0])\n",
    "w1, loss1 = ridge_regression(y1_tr, tX1_tr, best_lambdas[1])\n",
    "w2, loss2 = ridge_regression(y2_tr, tX2_tr, best_lambdas[2])\n",
    "w3, loss3 = ridge_regression(y3_tr, tX3_tr, best_lambdas[3])"
   ]
  },
  {
   "cell_type": "code",
   "execution_count": 24,
   "metadata": {},
   "outputs": [
    {
     "name": "stdout",
     "output_type": "stream",
     "text": [
      "[7.564633275546306, 25.353644939701166, 25.353644939701166, 1e-07]\n"
     ]
    }
   ],
   "source": [
    "print(best_lambdas)"
   ]
  },
  {
   "cell_type": "markdown",
   "metadata": {},
   "source": [
    "## Test the implementation:"
   ]
  },
  {
   "cell_type": "code",
   "execution_count": 25,
   "metadata": {},
   "outputs": [
    {
     "name": "stdout",
     "output_type": "stream",
     "text": [
      "(19983,)\n",
      "(19983,)\n"
     ]
    }
   ],
   "source": [
    "##### TESTING #####\n",
    "\n",
    "y0_pred = predict_labels(w0, tX0_te)\n",
    "y1_pred = predict_labels(w1, tX1_te)\n",
    "y2_pred = predict_labels(w2, tX2_te)\n",
    "y3_pred = predict_labels(w3, tX3_te)\n",
    "\n",
    "print(y0_pred.shape)\n",
    "print(y0_te.shape)\n",
    "\n",
    "grades = [0., 0., 0., 0.]\n",
    "res0 = np.where(y0_te[:,] == y0_pred[:,], 1, 0)\n",
    "grades[0] = np.mean(res0)\n",
    "res1 = np.where(y1_te[:,] == y1_pred[:,], 1, 0)\n",
    "grades[1] = np.mean(res0)\n",
    "res2 = np.where(y2_te[:,] == y2_pred[:,], 1, 0)\n",
    "grades[2] = np.mean(res2)\n",
    "res3 = np.where(y3_te[:,] == y3_pred[:,], 1, 0)\n",
    "grades[3] = np.mean(res3)\n",
    "grade = np.mean(grades)\n"
   ]
  },
  {
   "cell_type": "code",
   "execution_count": 26,
   "metadata": {},
   "outputs": [
    {
     "name": "stdout",
     "output_type": "stream",
     "text": [
      "0.708437830245418\n"
     ]
    }
   ],
   "source": [
    "print(grade)"
   ]
  },
  {
   "cell_type": "markdown",
   "metadata": {},
   "source": [
    "## Generate predictions and save ouput in csv format for submission:"
   ]
  },
  {
   "cell_type": "code",
   "execution_count": 15,
   "metadata": {},
   "outputs": [],
   "source": [
    "y0_pred = predict_labels(w0, tX0_fin)\n",
    "y1_pred = predict_labels(w1, tX1_fin)\n",
    "y2_pred = predict_labels(w2, tX2_fin)\n",
    "y3_pred = predict_labels(w3, tX3_fin)"
   ]
  },
  {
   "cell_type": "code",
   "execution_count": 16,
   "metadata": {},
   "outputs": [],
   "source": [
    "y_pred = np.concatenate([y0_pred, y1_pred, y2_pred, y3_pred])\n",
    "ids_pred = np.concatenate([ids0_te, ids1_te, ids2_te, ids3_te])\n",
    "OUTPUT_PATH = 'data/results_ridge_cross_validation.csv' \n",
    "create_csv_submission(ids_pred, y_pred, OUTPUT_PATH)"
   ]
  },
  {
   "cell_type": "code",
   "execution_count": null,
   "metadata": {},
   "outputs": [],
   "source": [
    "\"Result : 0. ...\""
   ]
  }
 ],
 "metadata": {
  "anaconda-cloud": {},
  "kernelspec": {
   "display_name": "Python 3",
   "language": "python",
   "name": "python3"
  },
  "language_info": {
   "codemirror_mode": {
    "name": "ipython",
    "version": 3
   },
   "file_extension": ".py",
   "mimetype": "text/x-python",
   "name": "python",
   "nbconvert_exporter": "python",
   "pygments_lexer": "ipython3",
   "version": "3.7.3"
  }
 },
 "nbformat": 4,
 "nbformat_minor": 1
}
