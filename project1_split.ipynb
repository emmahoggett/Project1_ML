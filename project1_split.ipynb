{
 "cells": [
  {
   "cell_type": "code",
   "execution_count": 4,
   "metadata": {},
   "outputs": [
    {
     "name": "stdout",
     "output_type": "stream",
     "text": [
      "The autoreload extension is already loaded. To reload it, use:\n",
      "  %reload_ext autoreload\n"
     ]
    }
   ],
   "source": [
    "# Useful starting lines\n",
    "%matplotlib inline\n",
    "import numpy as np\n",
    "import matplotlib.pyplot as plt\n",
    "%load_ext autoreload\n",
    "%autoreload 2"
   ]
  },
  {
   "cell_type": "markdown",
   "metadata": {},
   "source": [
    "## Load the training data into feature matrix, class labels, and event ids:"
   ]
  },
  {
   "cell_type": "code",
   "execution_count": 8,
   "metadata": {},
   "outputs": [],
   "source": [
    "from proj1_helpers import *\n",
    "from data_analysis import * \n",
    "\n",
    "DATA_TRAIN_PATH = \"train.csv\" # download train data and supply path\n",
    "y, tX, ids = load_csv_data(DATA_TRAIN_PATH)\n",
    "\n",
    "# Split the data into train (80%) and test (20%) parts \n",
    "ratio = 0.8;\n",
    "tX_tr, tX_te, y_tr, y_te, ids_tr, ids_te = split_data(tX, y, ids, ratio)"
   ]
  },
  {
   "cell_type": "markdown",
   "metadata": {},
   "source": [
    "## Implementation"
   ]
  },
  {
   "cell_type": "code",
   "execution_count": 9,
   "metadata": {},
   "outputs": [
    {
     "name": "stdout",
     "output_type": "stream",
     "text": [
      "shape of x (250000, 30)\n",
      "shape of y (250000,)\n",
      "shape of ids (250000,)\n"
     ]
    }
   ],
   "source": [
    "print(\"shape of x {}\".format(tX.shape))\n",
    "print(\"shape of y {}\".format(y.shape))\n",
    "print(\"shape of ids {}\".format(ids.shape))"
   ]
  },
  {
   "cell_type": "code",
   "execution_count": 13,
   "metadata": {},
   "outputs": [],
   "source": [
    "from data_analysis import *\n",
    "\n",
    "##### Data analysis #####\n",
    "\n",
    "#Separate the data\n",
    "jet_num = 0\n",
    "y0, tX0, ids0, _ = extract_jet_num(jet_num, y_tr, tX_tr, ids_tr)\n",
    "jet_num = 1\n",
    "y1, tX1, ids1, _ = extract_jet_num(jet_num, y_tr, tX_tr, ids_tr)\n",
    "jet_num = 2\n",
    "y2, tX2, ids2, _ = extract_jet_num(jet_num, y_tr, tX_tr, ids_tr)\n",
    "jet_num = 3\n",
    "y3, tX3, ids3, _ = extract_jet_num(jet_num, y_tr, tX_tr, ids_tr)\n",
    "\n",
    "#Standarize the data\n",
    "# tX0, m0, std0 = standardize(tX0)\n",
    "# tX1, m1, std1 = standardize(tX1)\n",
    "# tX2, m2, std2 = standardize(tX2)\n",
    "# tX3, m3, std3 = standardize(tX3)\n"
   ]
  },
  {
   "cell_type": "code",
   "execution_count": 14,
   "metadata": {
    "scrolled": true
   },
   "outputs": [
    {
     "name": "stdout",
     "output_type": "stream",
     "text": [
      "shape of x0 (79922, 21)\n",
      "shape of y0 (79922,)\n",
      "shape of ids0 (79922,)\n",
      "shape of x1 (61985, 24)\n",
      "shape of y1 (61985,)\n",
      "shape of ids1 (61985,)\n",
      "shape of x2 (40333, 30)\n",
      "shape of y2 (40333,)\n",
      "shape of ids2 (40333,)\n",
      "shape of x3 (17759, 30)\n",
      "shape of y3 (17759,)\n",
      "shape of ids3 (17759,)\n"
     ]
    }
   ],
   "source": [
    "print(\"shape of x0 {}\".format(tX0.shape))\n",
    "print(\"shape of y0 {}\".format(y0.shape))\n",
    "print(\"shape of ids0 {}\".format(ids0.shape))\n",
    "print(\"shape of x1 {}\".format(tX1.shape))\n",
    "print(\"shape of y1 {}\".format(y1.shape))\n",
    "print(\"shape of ids1 {}\".format(ids1.shape))\n",
    "print(\"shape of x2 {}\".format(tX2.shape))\n",
    "print(\"shape of y2 {}\".format(y2.shape))\n",
    "print(\"shape of ids2 {}\".format(ids2.shape))\n",
    "print(\"shape of x3 {}\".format(tX3.shape))\n",
    "print(\"shape of y3 {}\".format(y3.shape))\n",
    "print(\"shape of ids3 {}\".format(ids3.shape))"
   ]
  },
  {
   "cell_type": "code",
   "execution_count": 15,
   "metadata": {
    "scrolled": true
   },
   "outputs": [
    {
     "name": "stdout",
     "output_type": "stream",
     "text": [
      "11.497569953977356\n",
      "1.2618568830660184\n",
      "4.750810162102793\n"
     ]
    },
    {
     "data": {
      "image/png": "[encoded data removed]",
      "text/plain": [
       "<Figure size 432x288 with 1 Axes>"
      ]
     },
     "metadata": {
      "needs_background": "light"
     },
     "output_type": "display_data"
    }
   ],
   "source": [
    "from implementation import *\n",
    "from optimization import * \n",
    "\n",
    "##### Machine learning #####\n",
    "\n",
    "# Define the parameters of the algorithm.\n",
    "#D = tX.shape[1]\n",
    "\n",
    "# Start gradient descent.\n",
    "w0, loss0 = least_squares(y0, tX0)\n",
    "w1, loss1 = least_squares(y1, tX1)\n",
    "w2, loss2 = least_squares(y2, tX2)\n",
    "w3, loss3 = least_squares(y3, tX3)\n",
    "\n",
    "# print(w)\n",
    "\n",
    "##### Cross validation #####\n",
    "\n",
    "best_lambda0 = cross_validation_lambda(y0, tX0)\n",
    "print(best_lambda0)\n",
    "\n",
    "best_lambda1 = cross_validation_lambda(y1, tX1)\n",
    "print(best_lambda1)\n",
    "\n",
    "best_lambda2 = cross_validation_lambda(y2, tX2)\n",
    "print(best_lambda2)\n",
    "\n",
    "# Logistic regression\n",
    "# ..."
   ]
  },
  {
   "cell_type": "markdown",
   "metadata": {},
   "source": [
    "## Test the implementation:"
   ]
  },
  {
   "cell_type": "code",
   "execution_count": 19,
   "metadata": {},
   "outputs": [],
   "source": [
    "#Separate the data\n",
    "jet_num = 0\n",
    "y0_te, tX0_te, ids0_te, _ = extract_jet_num(jet_num, y_te, tX_te, ids_te)\n",
    "jet_num = 1\n",
    "y1_te, tX1_te, ids1_te, _ = extract_jet_num(jet_num, y_te, tX_te, ids_te)\n",
    "jet_num = 2\n",
    "y2_te, tX2_te, ids2_te, _ = extract_jet_num(jet_num, y_te, tX_te, ids_te)\n",
    "jet_num = 3\n",
    "y3_te, tX3_te, ids3_te, _ = extract_jet_num(jet_num, y_te, tX_te, ids_te)\n",
    "\n",
    "y0_pred = predict_labels(w0, tX0_te)\n",
    "y1_pred = predict_labels(w1, tX1_te)\n",
    "y2_pred = predict_labels(w2, tX2_te)\n",
    "y3_pred = predict_labels(w3, tX3_te)\n",
    "\n",
    "grades = [0., 0., 0., 0.]\n",
    "res0 = np.where(y0_te[:,] == y0_pred[:,], 1, 0)\n",
    "grades[0] = np.mean(res0)\n",
    "res1 = np.where(y1_te[:,] == y1_pred[:,], 1, 0)\n",
    "grades[1] = np.mean(res0)\n",
    "res2 = np.where(y2_te[:,] == y2_pred[:,], 1, 0)\n",
    "grades[2] = np.mean(res2)\n",
    "res3 = np.where(y3_te[:,] == y3_pred[:,], 1, 0)\n",
    "grades[3] = np.mean(res3)\n",
    "grade = np.mean(grades)\n"
   ]
  },
  {
   "cell_type": "code",
   "execution_count": 20,
   "metadata": {},
   "outputs": [
    {
     "name": "stdout",
     "output_type": "stream",
     "text": [
      "0.7716657744296722\n"
     ]
    }
   ],
   "source": [
    "print(grade)"
   ]
  },
  {
   "cell_type": "markdown",
   "metadata": {},
   "source": [
    "## Generate predictions and save ouput in csv format for submission:"
   ]
  },
  {
   "cell_type": "code",
   "execution_count": 77,
   "metadata": {},
   "outputs": [],
   "source": [
    "DATA_TEST_PATH = \"test.csv\" #download train data and supply path\n",
    "y_te, tX_te, ids_te = load_csv_data(DATA_TEST_PATH)"
   ]
  },
  {
   "cell_type": "code",
   "execution_count": 78,
   "metadata": {},
   "outputs": [
    {
     "name": "stdout",
     "output_type": "stream",
     "text": [
      "shape of x (568238, 30)\n",
      "shape of ids (568238,)\n"
     ]
    }
   ],
   "source": [
    "print(\"shape of x {}\".format(tX_te.shape))\n",
    "print(\"shape of ids {}\".format(ids_te.shape))"
   ]
  },
  {
   "cell_type": "code",
   "execution_count": 79,
   "metadata": {},
   "outputs": [],
   "source": [
    "from data_analysis import * \n",
    "\n",
    "##### Test on test dataset #####\n",
    "\n",
    "#Separate the data\n",
    "jet_num = 0\n",
    "y0_te, tX0_te, ids0_te, _ = extract_jet_num(jet_num, y_te, tX_te, ids_te)\n",
    "jet_num = 1\n",
    "y1_te, tX1_te, ids1_te, _ = extract_jet_num(jet_num, y_te, tX_te, ids_te)\n",
    "jet_num = 2\n",
    "y2_te, tX2_te, ids2_te, _ = extract_jet_num(jet_num, y_te, tX_te, ids_te)\n",
    "jet_num = 3\n",
    "y3_te, tX3_te, ids3_te, _ = extract_jet_num(jet_num, y_te, tX_te, ids_te)\n",
    "\n",
    "#Standarize the data\n",
    "#tX0_te = standardize_te(tX0_te, m0, std0)\n",
    "#tX1_te = standardize_te(tX1_te, m1, std1)\n",
    "#tX2_te = standardize_te(tX2_te, m2, std2)\n",
    "#tX3_te = standardize_te(tX3_te, m3, std3)\n"
   ]
  },
  {
   "cell_type": "code",
   "execution_count": 80,
   "metadata": {},
   "outputs": [
    {
     "name": "stdout",
     "output_type": "stream",
     "text": [
      "shape of x0 (227458, 21)\n",
      "shape of ids0 (227458,)\n",
      "shape of x1 (175338, 24)\n",
      "shape of ids1 (175338,)\n",
      "shape of x2 (114648, 30)\n",
      "shape of ids2 (114648,)\n",
      "shape of x3 (50794, 30)\n",
      "shape of ids3 (50794,)\n"
     ]
    }
   ],
   "source": [
    "print(\"shape of x0 {}\".format(tX0_te.shape))\n",
    "print(\"shape of ids0 {}\".format(ids0_te.shape))\n",
    "print(\"shape of x1 {}\".format(tX1_te.shape))\n",
    "print(\"shape of ids1 {}\".format(ids1_te.shape))\n",
    "print(\"shape of x2 {}\".format(tX2_te.shape))\n",
    "print(\"shape of ids2 {}\".format(ids2_te.shape))\n",
    "print(\"shape of x3 {}\".format(tX3_te.shape))\n",
    "print(\"shape of ids3 {}\".format(ids3_te.shape))"
   ]
  },
  {
   "cell_type": "code",
   "execution_count": 81,
   "metadata": {},
   "outputs": [],
   "source": [
    "OUTPUT_PATH = 'results0.csv' #name of output file for submission\n",
    "y0_pred = predict_labels(w0, tX0_te)\n",
    "OUTPUT_PATH = 'results1.csv'\n",
    "y1_pred = predict_labels(w1, tX1_te)\n",
    "OUTPUT_PATH = 'results2.csv'\n",
    "y2_pred = predict_labels(w2, tX2_te)\n",
    "OUTPUT_PATH = 'results3.csv'\n",
    "y3_pred = predict_labels(w3, tX3_te)"
   ]
  },
  {
   "cell_type": "code",
   "execution_count": 82,
   "metadata": {},
   "outputs": [],
   "source": [
    "y_pred = np.concatenate([y0_pred, y1_pred, y2_pred, y3_pred])\n",
    "ids_pred = np.concatenate([ids0_te, ids1_te, ids2_te, ids3_te])\n",
    "OUTPUT_PATH = 'results.csv' \n",
    "create_csv_submission(ids_pred, y_pred, OUTPUT_PATH)"
   ]
  },
  {
   "cell_type": "code",
   "execution_count": null,
   "metadata": {},
   "outputs": [],
   "source": []
  }
 ],
 "metadata": {
  "anaconda-cloud": {},
  "kernelspec": {
   "display_name": "Python 3",
   "language": "python",
   "name": "python3"
  },
  "language_info": {
   "codemirror_mode": {
    "name": "ipython",
    "version": 3
   },
   "file_extension": ".py",
   "mimetype": "text/x-python",
   "name": "python",
   "nbconvert_exporter": "python",
   "pygments_lexer": "ipython3",
   "version": "3.7.3"
  }
 },
 "nbformat": 4,
 "nbformat_minor": 1
}
