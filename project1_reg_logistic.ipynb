{
 "cells": [
  {
   "cell_type": "code",
   "execution_count": 1,
   "metadata": {},
   "outputs": [],
   "source": [
    "# Useful starting lines\n",
    "%matplotlib inline\n",
    "import numpy as np\n",
    "import matplotlib.pyplot as plt\n",
    "%load_ext autoreload\n",
    "%autoreload 2"
   ]
  },
  {
   "cell_type": "markdown",
   "metadata": {},
   "source": [
    "## Load the training data into feature matrix, class labels, and event ids:"
   ]
  },
  {
   "cell_type": "code",
   "execution_count": 2,
   "metadata": {},
   "outputs": [],
   "source": [
    "from proj1_helpers import *\n",
    "from data_analysis_logistic import *\n",
    "from implementation import *\n",
    "from cross_validation_reg_logistic import*"
   ]
  },
  {
   "cell_type": "code",
   "execution_count": 3,
   "metadata": {},
   "outputs": [],
   "source": [
    "DATA_TRAIN_PATH = \"data/train.csv\" # download train data and supply path\n",
    "y_tr, tX_tr, ids_tr = load_csv_data(DATA_TRAIN_PATH)\n",
    "\n",
    "DATA_TEST_PATH = \"data/test.csv\" #download train data and supply path\n",
    "y_fin, tX_fin, ids_fin = load_csv_data(DATA_TEST_PATH)"
   ]
  },
  {
   "cell_type": "code",
   "execution_count": 27,
   "metadata": {},
   "outputs": [
    {
     "name": "stdout",
     "output_type": "stream",
     "text": [
      "(250000,)\n"
     ]
    }
   ],
   "source": [
    "print(y_tr.shape)"
   ]
  },
  {
   "cell_type": "markdown",
   "metadata": {},
   "source": [
    "# Implementation"
   ]
  },
  {
   "cell_type": "markdown",
   "metadata": {},
   "source": [
    "## Separation of the data"
   ]
  },
  {
   "cell_type": "code",
   "execution_count": 4,
   "metadata": {},
   "outputs": [],
   "source": [
    "mass=1\n",
    "jet_num = 0\n",
    "y0_tr_mass, tX0_tr_mass,y0_tr_new_mass, tX0_tr_new_mass, ids0_tr_mass, y0_te_mass, tX0_te_mass, ids0_te_mass, y0_fin_mass, tX0_fin_mass, ids0_fin_mass = data_analysis(jet_num, y_tr, tX_tr, ids_tr, y_fin, tX_fin, ids_fin, mass)\n",
    "jet_num = 1\n",
    "y1_tr_mass, tX1_tr_mass,y1_tr_new_mass, tX1_tr_new_mass, ids1_tr_mass, y1_te_mass, tX1_te_mass, ids1_te_mass, y1_fin_mass, tX1_fin_mass, ids1_fin_mass = data_analysis(jet_num, y_tr, tX_tr, ids_tr, y_fin, tX_fin, ids_fin, mass)\n",
    "jet_num = 2\n",
    "y2_tr_mass, tX2_tr_mass,y2_tr_new_mass, tX2_tr_new_mass, ids2_tr_mass, y2_te_mass, tX2_te_mass, ids2_te_mass, y2_fin_mass, tX2_fin_mass, ids2_fin_mass = data_analysis(jet_num, y_tr, tX_tr, ids_tr, y_fin, tX_fin, ids_fin, mass)\n",
    "jet_num = 3\n",
    "y3_tr_mass, tX3_tr_mass,y3_tr_new_mass, tX3_tr_new_mass, ids3_tr_mass, y3_te_mass, tX3_te_mass, ids3_te_mass, y3_fin_mass, tX3_fin_mass, ids3_fin_mass = data_analysis(jet_num, y_tr, tX_tr, ids_tr, y_fin, tX_fin, ids_fin, mass)\n",
    "\n",
    "mass=0\n",
    "jet_num = 0\n",
    "y0_tr_nomass, tX0_tr_nomass,y0_tr_new_nomass, tX0_tr_new_nomass, ids0_tr_nomass, y0_te_nomass, tX0_te_nomass, ids0_te_nomass, y0_fin_nomass, tX0_fin_nomass, ids0_fin_nomass = data_analysis(jet_num, y_tr, tX_tr, ids_tr, y_fin, tX_fin, ids_fin, mass)\n",
    "jet_num = 1\n",
    "y1_tr_nomass, tX1_tr_nomass,y1_tr_new_nomass, tX1_tr_new_nomass, ids1_tr_nomass, y1_te_nomass, tX1_te_nomass, ids1_te_nomass, y1_fin_nomass, tX1_fin_nomass, ids1_fin_nomass = data_analysis(jet_num, y_tr, tX_tr, ids_tr, y_fin, tX_fin, ids_fin, mass)\n",
    "jet_num = 2\n",
    "y2_tr_nomass, tX2_tr_nomass,y2_tr_new_nomass, tX2_tr_new_nomass, ids2_tr_nomass, y2_te_nomass, tX2_te_nomass, ids2_te_nomass, y2_fin_nomass, tX2_fin_nomass, ids2_fin_nomass = data_analysis(jet_num, y_tr, tX_tr, ids_tr, y_fin, tX_fin, ids_fin, mass)\n",
    "jet_num = 3\n",
    "y3_tr_nomass, tX3_tr_nomass,y3_tr_new_nomass, tX3_tr_new_nomass, ids3_tr_nomass, y3_te_nomass, tX3_te_nomass, ids3_te_nomass, y3_fin_nomass, tX3_fin_nomass, ids3_fin_nomass = data_analysis(jet_num, y_tr, tX_tr, ids_tr, y_fin, tX_fin, ids_fin, mass)\n"
   ]
  },
  {
   "cell_type": "code",
   "execution_count": 26,
   "metadata": {},
   "outputs": [
    {
     "name": "stdout",
     "output_type": "stream",
     "text": [
      "(92898,)\n",
      "(71338,)\n",
      "(43964,)\n",
      "(19115,)\n"
     ]
    }
   ],
   "source": [
    "print(y0_tr.shape)\n",
    "print(y1_tr.shape)\n",
    "print(y2_tr.shape)\n",
    "print(y3_tr.shape)"
   ]
  },
  {
   "cell_type": "markdown",
   "metadata": {},
   "source": [
    "## Initialization"
   ]
  },
  {
   "cell_type": "code",
   "execution_count": 5,
   "metadata": {},
   "outputs": [],
   "source": [
    "init_w0_mass=np.zeros(tX0_tr_mass.shape[1])\n",
    "init_w1_mass=np.zeros(tX1_tr_mass.shape[1])\n",
    "init_w2_mass=np.zeros(tX2_tr_mass.shape[1])\n",
    "init_w3_mass=np.zeros(tX3_tr_mass.shape[1])\n",
    "\n",
    "init_w0_nomass=np.zeros(tX0_tr_nomass.shape[1])\n",
    "init_w1_nomass=np.zeros(tX1_tr_nomass.shape[1])\n",
    "init_w2_nomass=np.zeros(tX2_tr_nomass.shape[1])\n",
    "init_w3_nomass=np.zeros(tX3_tr_nomass.shape[1])\n",
    "\n",
    "\n",
    "init_w0_new_nomass=np.zeros(tX0_tr_new_nomass.shape[1])\n",
    "init_w1_new_nomass=np.zeros(tX1_tr_new_nomass.shape[1])\n",
    "init_w2_new_nomass=np.zeros(tX2_tr_new_nomass.shape[1])\n",
    "init_w3_new_nomass=np.zeros(tX3_tr_new_nomass.shape[1])\n",
    "\n",
    "init_w0_new_mass=np.zeros(tX0_tr_new_mass.shape[1])\n",
    "init_w1_new_mass=np.zeros(tX1_tr_new_mass.shape[1])\n",
    "init_w2_new_mass=np.zeros(tX2_tr_new_mass.shape[1])\n",
    "init_w3_new_mass=np.zeros(tX3_tr_new_mass.shape[1])\n",
    "\n",
    "\n",
    "best_lambdas_mass = [0., 0., 0., 0.,]\n",
    "best_lambdas_nomass = [0., 0., 0., 0.,]\n",
    "\n",
    "max_iters=40\n",
    "gamma=0.01"
   ]
  },
  {
   "cell_type": "markdown",
   "metadata": {},
   "source": [
    "## No cross validation - no extended feature - no separation of data"
   ]
  },
  {
   "cell_type": "markdown",
   "metadata": {},
   "source": [
    "Résultats:\n",
    "- Categorical accuracy: 0.663\n",
    "- F1-Score: 0.362\n",
    "- Our grade: 0.642 - 0.657*\n",
    "\n",
    "*Non testé"
   ]
  },
  {
   "cell_type": "code",
   "execution_count": 23,
   "metadata": {},
   "outputs": [
    {
     "name": "stdout",
     "output_type": "stream",
     "text": [
      "6.723357536499335\n"
     ]
    }
   ],
   "source": [
    "ratio=0.8\n",
    "X_tr, X_te, Y_tr, Y_te, IDS_tr, IDS_te=split_data(tX_tr, y_tr, ids_tr, ratio, seed=1)\n",
    "X_tr, m, std = standardize(X_tr)\n",
    "X_te = standardize_te(X_te, m, std)\n",
    "X_tr,IDS_tr,Y_tr=extract_outliers(X_tr,IDS_tr,Y_tr)\n",
    "X_te,IDS_te,Y_te=extract_outliers(X_te,IDS_te,Y_te)\n",
    "\n",
    "init_w=np.zeros(X_tr.shape[1])\n",
    "best_lambda=test_lambda_cst(Y_tr,X_tr,Y_te,X_te,init_w, max_iters, gamma)\n",
    "\n",
    "print(best_lambda)"
   ]
  },
  {
   "cell_type": "code",
   "execution_count": 24,
   "metadata": {},
   "outputs": [
    {
     "name": "stdout",
     "output_type": "stream",
     "text": [
      "0.6566727928965258\n"
     ]
    }
   ],
   "source": [
    "w, loss = reg_logistic_regression(Y_tr, X_tr,init_w, best_lambda, max_iters, gamma)\n",
    "\n",
    "y_pred = predict_labels(w, X_te)\n",
    "\n",
    "res = np.where(Y_te[:,] == y_pred[:,], 1, 0)\n",
    "grade = np.mean(res)\n",
    "\n",
    "print(grade)"
   ]
  },
  {
   "cell_type": "code",
   "execution_count": 33,
   "metadata": {},
   "outputs": [],
   "source": [
    "init_w=np.zeros(tX_tr.shape[1])\n",
    "w, loss = reg_logistic_regression(y_tr, tX_tr,init_w, best_lambda, max_iters, gamma)\n",
    "\n",
    "y_pred = predict_labels(w, tX_fin)\n",
    "y_pred=rescale_y(y_pred, ids_fin, 0,-1)\n",
    "ids_pred = ids_fin\n",
    "OUTPUT_PATH = 'results_reg_logistic_nocross_noext_nosep.csv' \n",
    "create_csv_submission(ids_pred, y_pred, OUTPUT_PATH)"
   ]
  },
  {
   "cell_type": "markdown",
   "metadata": {},
   "source": [
    "## Cross validation of lambda - No extended feature"
   ]
  },
  {
   "cell_type": "markdown",
   "metadata": {},
   "source": [
    "Résultats:\n",
    "- Categorical accuracy: 0.687\n",
    "- F1-Score: 0.591\n",
    "- Our grade: 0.695 - 0.687*\n",
    "\n",
    "\n",
    "A revoir: Les lambdas sont ils bien definies? Notamment pour lambda 0.\n",
    "\n",
    "*pas encore soumis"
   ]
  },
  {
   "cell_type": "code",
   "execution_count": 11,
   "metadata": {
    "scrolled": false
   },
   "outputs": [
    {
     "name": "stdout",
     "output_type": "stream",
     "text": [
      "[7.847599703514606, 0.26366508987303555, 1e-05, 1e-05]\n"
     ]
    }
   ],
   "source": [
    "best_lambdas_mass[0]= cross_validation_lambda_reg_logistic(y0_tr_mass, tX0_tr_mass, max_iters, gamma)\n",
    "best_lambdas_mass[1]= cross_validation_lambda_reg_logistic(y1_tr_mass, tX1_tr_mass, max_iters, gamma)\n",
    "best_lambdas_mass[2]= cross_validation_lambda_reg_logistic(y2_tr_mass, tX2_tr_mass, max_iters, gamma)\n",
    "best_lambdas_mass[3]= cross_validation_lambda_reg_logistic(y3_tr_mass, tX3_tr_mass, max_iters, gamma)\n",
    "\n",
    "best_lambdas_nomass[0]= cross_validation_lambda_reg_logistic(y0_tr_nomass, tX0_tr_nomass, max_iters, gamma)\n",
    "best_lambdas_nomass[1]= cross_validation_lambda_reg_logistic(y1_tr_nomass, tX1_tr_nomass, max_iters, gamma)\n",
    "best_lambdas_nomass[2]= cross_validation_lambda_reg_logistic(y2_tr_nomass, tX2_tr_nomass, max_iters, gamma)\n",
    "best_lambdas_nomass[3]= cross_validation_lambda_reg_logistic(y3_tr_nomass, tX3_tr_nomass, max_iters, gamma)\n",
    "\n",
    "\n",
    "print(best_lambdas_mass)"
   ]
  },
  {
   "cell_type": "code",
   "execution_count": 12,
   "metadata": {},
   "outputs": [
    {
     "name": "stdout",
     "output_type": "stream",
     "text": [
      "0.6872652784201818\n"
     ]
    }
   ],
   "source": [
    "w0_mass, _ = reg_logistic_regression(y0_tr_new_mass, tX0_tr_new_mass,init_w0_new_mass, best_lambdas_mass[0], max_iters, gamma)\n",
    "w1_mass, _ = reg_logistic_regression(y1_tr_new_mass, tX1_tr_new_mass,init_w1_new_mass, best_lambdas_mass[1], max_iters, gamma)\n",
    "w2_mass, _ = reg_logistic_regression(y2_tr_new_mass, tX2_tr_new_mass,init_w2_new_mass, best_lambdas_mass[2], max_iters, gamma)\n",
    "w3_mass, _ = reg_logistic_regression(y3_tr_new_mass, tX3_tr_new_mass,init_w3_new_mass, best_lambdas_mass[3], max_iters, gamma)\n",
    "\n",
    "w0_nomass, _ = reg_logistic_regression(y0_tr_new_nomass, tX0_tr_new_nomass,init_w0_new_nomass, best_lambdas_nomass[0], max_iters, gamma)\n",
    "w1_nomass, _ = reg_logistic_regression(y1_tr_new_nomass, tX1_tr_new_nomass,init_w1_new_nomass, best_lambdas_nomass[1], max_iters, gamma)\n",
    "w2_nomass, _ = reg_logistic_regression(y2_tr_new_nomass, tX2_tr_new_nomass,init_w2_new_nomass, best_lambdas_nomass[2], max_iters, gamma)\n",
    "w3_nomass, _ = reg_logistic_regression(y3_tr_new_nomass, tX3_tr_new_nomass,init_w3_new_nomass, best_lambdas_nomass[3], max_iters, gamma)\n",
    "\n",
    "\n",
    "y0_pred_mass = predict_labels(w0_mass, tX0_te_mass)\n",
    "y1_pred_mass = predict_labels(w1_mass, tX1_te_mass)\n",
    "y2_pred_mass = predict_labels(w2_mass, tX2_te_mass)\n",
    "y3_pred_mass = predict_labels(w3_mass, tX3_te_mass)\n",
    "\n",
    "y0_pred_nomass = predict_labels(w0_nomass, tX0_te_nomass)\n",
    "y1_pred_nomass = predict_labels(w1_nomass, tX1_te_nomass)\n",
    "y2_pred_nomass = predict_labels(w2_nomass, tX2_te_nomass)\n",
    "y3_pred_nomass = predict_labels(w3_nomass, tX3_te_nomass)\n",
    "\n",
    "grades = [0., 0., 0., 0.,0., 0., 0., 0.]\n",
    "\n",
    "\n",
    "res0_mass = np.where(y0_te_mass[:,] == y0_pred_mass[:,], 1, 0)\n",
    "res1_mass = np.where(y1_te_mass[:,] == y1_pred_mass[:,], 1, 0)\n",
    "res2_mass = np.where(y2_te_mass[:,] == y2_pred_mass[:,], 1, 0)\n",
    "res3_mass = np.where(y3_te_mass[:,] == y3_pred_mass[:,], 1, 0)\n",
    "\n",
    "res0_nomass = np.where(y0_te_nomass[:,] == y0_pred_nomass[:,], 1, 0)\n",
    "res1_nomass = np.where(y1_te_nomass[:,] == y1_pred_nomass[:,], 1, 0)\n",
    "res2_nomass = np.where(y2_te_nomass[:,] == y2_pred_nomass[:,], 1, 0)\n",
    "res3_nomass = np.where(y3_te_nomass[:,] == y3_pred_nomass[:,], 1, 0)\n",
    "\n",
    "grades[0] = np.mean(res0_mass)\n",
    "grades[1] = np.mean(res1_mass)\n",
    "grades[2] = np.mean(res2_mass)\n",
    "grades[3] = np.mean(res3_mass)\n",
    "\n",
    "grades[4] = np.mean(res0_nomass)\n",
    "grades[5] = np.mean(res1_nomass)\n",
    "grades[6] = np.mean(res2_nomass)\n",
    "grades[7] = np.mean(res3_nomass)\n",
    "\n",
    "grade = np.mean(grades)\n",
    "\n",
    "print(grade)"
   ]
  },
  {
   "cell_type": "code",
   "execution_count": 13,
   "metadata": {},
   "outputs": [
    {
     "name": "stdout",
     "output_type": "stream",
     "text": [
      "[-1. -1. -1. ... -1.  1.  1.]\n"
     ]
    }
   ],
   "source": [
    "w0_mass, _ = reg_logistic_regression(y0_tr_mass, tX0_tr_mass,init_w0_mass, best_lambdas_mass[0], max_iters, gamma)\n",
    "w1_mass, _ = reg_logistic_regression(y1_tr_mass, tX1_tr_mass,init_w1_mass, best_lambdas_mass[1], max_iters, gamma)\n",
    "w2_mass, _ = reg_logistic_regression(y2_tr_mass, tX2_tr_mass,init_w2_mass, best_lambdas_mass[2], max_iters, gamma)\n",
    "w3_mass, _ = reg_logistic_regression(y3_tr_mass, tX3_tr_mass,init_w3_mass, best_lambdas_mass[3], max_iters, gamma)\n",
    "\n",
    "\n",
    "w0_nomass, _ = reg_logistic_regression(y0_tr_nomass, tX0_tr_nomass,init_w0_nomass, best_lambdas_nomass[0], max_iters, gamma)\n",
    "w1_nomass, _ = reg_logistic_regression(y1_tr_nomass, tX1_tr_nomass,init_w1_nomass, best_lambdas_nomass[1], max_iters, gamma)\n",
    "w2_nomass, _ = reg_logistic_regression(y2_tr_nomass, tX2_tr_nomass,init_w2_nomass, best_lambdas_nomass[2], max_iters, gamma)\n",
    "w3_nomass, _ = reg_logistic_regression(y3_tr_nomass, tX3_tr_nomass,init_w3_nomass, best_lambdas_nomass[3], max_iters, gamma)\n",
    "\n",
    "\n",
    "\n",
    "y0_pred_mass = predict_labels(w0_mass, tX0_fin_mass)\n",
    "y1_pred_mass = predict_labels(w1_mass, tX1_fin_mass)\n",
    "y2_pred_mass = predict_labels(w2_mass, tX2_fin_mass)\n",
    "y3_pred_mass = predict_labels(w3_mass, tX3_fin_mass)\n",
    "\n",
    "y0_pred_nomass = predict_labels(w0_nomass, tX0_fin_nomass)\n",
    "y1_pred_nomass = predict_labels(w1_nomass, tX1_fin_nomass)\n",
    "y2_pred_nomass = predict_labels(w2_nomass, tX2_fin_nomass)\n",
    "y3_pred_nomass = predict_labels(w3_nomass, tX3_fin_nomass)\n",
    "\n",
    "print(y3_pred_nomass)\n"
   ]
  },
  {
   "cell_type": "code",
   "execution_count": 9,
   "metadata": {},
   "outputs": [],
   "source": [
    "y_pred = np.concatenate([y0_pred_mass, y1_pred_mass, y2_pred_mass, y3_pred_mass,y0_pred_nomass, y1_pred_nomass, y2_pred_nomass, y3_pred_nomass])\n",
    "ids_pred = np.concatenate([ids0_fin_mass, ids1_fin_mass, ids2_fin_mass, ids3_fin_mass,ids0_fin_nomass, ids1_fin_nomass, ids2_fin_nomass, ids3_fin_nomass])\n",
    "OUTPUT_PATH = 'results_reg_logistic_cross_noext_sep.csv' \n",
    "create_csv_submission(ids_pred, y_pred, OUTPUT_PATH)"
   ]
  },
  {
   "cell_type": "markdown",
   "metadata": {},
   "source": [
    "## Cross validation - Extended feature"
   ]
  },
  {
   "cell_type": "markdown",
   "metadata": {},
   "source": [
    "Résultat:\n",
    "- Categorical accuracy:0.744\n",
    "- F1-Score: 0.463\n",
    "- Our grade: 0.760 - 0.731*"
   ]
  },
  {
   "cell_type": "code",
   "execution_count": null,
   "metadata": {},
   "outputs": [],
   "source": [
    "lambda_=6.72\n",
    "\n",
    "deg0_mass=cross_validation_deg_reg_logistic(y0_tr_mass, tX0_tr_mass, max_iters, gamma,lambda_)\n",
    "deg1_mass=cross_validation_deg_reg_logistic(y1_tr_mass, tX1_tr_mass, max_iters, gamma,lambda_)\n",
    "deg2_mass=cross_validation_deg_reg_logistic(y2_tr_mass, tX2_tr_mass, max_iters, gamma,lambda_)\n",
    "deg3_mass=cross_validation_deg_reg_logistic(y3_tr_mass, tX3_tr_mass, max_iters, gamma,lambda_)\n",
    "\n",
    "deg0_nomass=cross_validation_deg_reg_logistic(y0_tr_nomass, tX0_tr_nomass, max_iters, gamma,lambda_)\n",
    "deg1_nomass=cross_validation_deg_reg_logistic(y1_tr_nomass, tX1_tr_nomass, max_iters, gamma,lambda_)\n",
    "deg2_nomass=cross_validation_deg_reg_logistic(y2_tr_nomass, tX2_tr_nomass, max_iters, gamma,lambda_)\n",
    "deg3_nomass=cross_validation_deg_reg_logistic(y3_tr_nomass, tX3_tr_nomass, max_iters, gamma,lambda_)\n"
   ]
  },
  {
   "cell_type": "code",
   "execution_count": null,
   "metadata": {},
   "outputs": [],
   "source": [
    "tX0_tr_mass,tX0_tr_new_mass,tX0_te_mass,tX0_fin_mass=build_poly_data(tX0_tr_mass,tX0_tr_new_mass,tX0_te_mass,tX0_fin_mass,deg0_mass)\n",
    "tX0_tr_mass,tX0_tr_new_mass,tX0_te_mass,tX0_fin_mass=build_poly_data(tX0_tr_mass,tX0_tr_new_mass,tX1_te_mass,tX1_fin_mass,deg1_mass)\n",
    "tX0_tr_mass,tX0_tr_new_mass,tX0_te_mass,tX0_fin_mass=build_poly_data(tX0_tr_mass,tX0_tr_new_mass,tX2_te_mass,tX2_fin_mass,deg2_mass)\n",
    "tX0_tr_mass,tX0_tr_new_mass,tX0_te_mass,tX0_fin_mass=build_poly_data(tX0_tr_mass,tX0_tr_new_mass,tX3_te_mass,tX3_fin_mass,deg3_mass)\n",
    "\n",
    "tX0_tr_nomass,tX0_tr_new_nomass,tX0_te_nomass,tX0_fin_nomass=build_poly_data(tX0_tr_nomass,tX0_tr_new_nomass,tX0_te_nomass,tX0_fin_nomass,deg0_nomass)\n",
    "tX1_tr_nomass,tX1_tr_new_nomass,tX1_te_nomass,tX1_fin_nomass=build_poly_data(tX1_tr_nomass,tX1_tr_new_nomass,tX1_te_nomass,tX1_fin_nomass,deg1_nomass)\n",
    "tX2_tr_nomass,tX2_tr_new_nomass,tX2_te_nomass,tX2_fin_nomass=build_poly_data(tX2_tr_nomass,tX2_tr_new_nomass,tX2_te_nomass,tX2_fin_nomass,deg2_nomass)\n",
    "tX3_tr_nomass,tX3_tr_new_nomass,tX3_te_nomass,tX3_fin_nomass=build_poly_data(tX3_tr_nomass,tX3_tr_new_nomass,tX3_te_nomass,tX3_fin_nomass,deg3_nomass)\n"
   ]
  },
  {
   "cell_type": "code",
   "execution_count": null,
   "metadata": {},
   "outputs": [],
   "source": [
    "best_lambdas_mass[0]= cross_validation_lambda_reg_logistic(y0_tr_mass, tX0_tr_mass, max_iters, gamma)\n",
    "best_lambdas_mass[1]= cross_validation_lambda_reg_logistic(y1_tr_mass, tX1_tr_mass, max_iters, gamma)\n",
    "best_lambdas_mass[2]= cross_validation_lambda_reg_logistic(y2_tr_mass, tX2_tr_mass, max_iters, gamma)\n",
    "best_lambdas_mass[3]= cross_validation_lambda_reg_logistic(y3_tr_mass, tX3_tr_mass, max_iters, gamma)\n",
    "\n",
    "best_lambdas_nomass[0]= cross_validation_lambda_reg_logistic(y0_tr_nomass, tX0_tr_nomass, max_iters, gamma)\n",
    "best_lambdas_nomass[1]= cross_validation_lambda_reg_logistic(y1_tr_nomass, tX1_tr_nomass, max_iters, gamma)\n",
    "best_lambdas_nomass[2]= cross_validation_lambda_reg_logistic(y2_tr_nomass, tX2_tr_nomass, max_iters, gamma)\n",
    "best_lambdas_nomass[3]= cross_validation_lambda_reg_logistic(y3_tr_nomass, tX3_tr_nomass, max_iters, gamma)\n"
   ]
  },
  {
   "cell_type": "code",
   "execution_count": null,
   "metadata": {},
   "outputs": [],
   "source": [
    "w0_mass,_ = reg_logistic_regression(y0_tr_new_mass, tX0_tr_new_mass,init_w0_new_mass, best_lambdas_mass[0], max_iters, gamma)\n",
    "w1_mass,_ = reg_logistic_regression(y1_tr_new_mass, tX1_tr_new_mass,init_w1_new_mass, best_lambdas_mass[1], max_iters, gamma)\n",
    "w2_mass,_ = reg_logistic_regression(y2_tr_new_mass, tX2_tr_new_mass,init_w2_new_mass, best_lambdas_mass[2], max_iters, gamma)\n",
    "w3_mass,_ = reg_logistic_regression(y3_tr_new_mass, tX3_tr_new_mass,init_w3_new_mass, best_lambdas_mass[3], max_iters, gamma)\n",
    "\n",
    "\n",
    "w0_nomass,_ = reg_logistic_regression(y0_tr_new_nomass, tX0_tr_new_nomass,init_w0_new_nomass, best_lambdas_nomass[0], max_iters, gamma)\n",
    "w1_nomass,_ = reg_logistic_regression(y1_tr_new_nomass, tX1_tr_new_nomass,init_w1_new_nomass, best_lambdas_nomass[1], max_iters, gamma)\n",
    "w2_nomass,_ = reg_logistic_regression(y2_tr_new_nomass, tX2_tr_new_nomass,init_w2_new_nomass, best_lambdas_nomass[2], max_iters, gamma)\n",
    "w3_nomass,_ = reg_logistic_regression(y3_tr_new_nomass, tX3_tr_new_nomass,init_w3_new_nomass, best_lambdas_nomass[3], max_iters, gamma)\n",
    "\n",
    "\n",
    "y0_pred_mass = predict_labels(w0_mass, tX0_te_mass)\n",
    "y1_pred_mass = predict_labels(w1_mass, tX1_te_mass)\n",
    "y2_pred_mass = predict_labels(w2_mass, tX2_te_mass)\n",
    "y3_pred_mass = predict_labels(w3_mass, tX3_te_mass)\n",
    "\n",
    "y0_pred_nomass = predict_labels(w0_nomass, tX0_te_nomass)\n",
    "y1_pred_nomass = predict_labels(w1_nomass, tX1_te_nomass)\n",
    "y2_pred_nomass = predict_labels(w2_nomass, tX2_te_nomass)\n",
    "y3_pred_nomass = predict_labels(w3_nomass, tX3_te_nomass)\n",
    "\n",
    "\n",
    "grades = [0., 0., 0., 0., 0., 0., 0., 0.]\n",
    "res0_mass = np.where(y0_te_mass[:,] == y0_pred_mass[:,], 1, 0)\n",
    "res1_mass = np.where(y1_te_mass[:,] == y1_pred_mass[:,], 1, 0)\n",
    "res2_mass = np.where(y2_te_mass[:,] == y2_pred_mass[:,], 1, 0)\n",
    "res3_mass = np.where(y3_te_mass[:,] == y3_pred_mass[:,], 1, 0)\n",
    "\n",
    "grades[0] = np.mean(res0_mass)\n",
    "grades[1] = np.mean(res1_mass)\n",
    "grades[2] = np.mean(res2_mass)\n",
    "grades[3] = np.mean(res3_mass)\n",
    "\n",
    "res0_nomass = np.where(y0_te_nomass[:,] == y0_pred_nomass[:,], 1, 0)\n",
    "res1_nomass = np.where(y1_te_nomass[:,] == y1_pred_nomass[:,], 1, 0)\n",
    "res2_nomass = np.where(y2_te_nomass[:,] == y2_pred_nomass[:,], 1, 0)\n",
    "res3_nomass = np.where(y3_te_nomass[:,] == y3_pred_nomass[:,], 1, 0)\n",
    "\n",
    "grades[4] = np.mean(res0_nomass)\n",
    "grades[5] = np.mean(res1_nomass)\n",
    "grades[6] = np.mean(res2_nomass)\n",
    "grades[7] = np.mean(res3_nomass)\n",
    "\n",
    "grade = np.mean(grades)\n",
    "\n",
    "print(grade)"
   ]
  },
  {
   "cell_type": "code",
   "execution_count": null,
   "metadata": {},
   "outputs": [],
   "source": [
    "w0_mass, _ = reg_logistic_regression(y0_tr_mass, tX0_tr_mass,init_w0_mass, best_lambdas_mass[0], max_iters, gamma)\n",
    "w1_mass, _ = reg_logistic_regression(y1_tr_mass, tX1_tr_mass,init_w1_mass, best_lambdas_mass[1], max_iters, gamma)\n",
    "w2_mass, _ = reg_logistic_regression(y2_tr_mass, tX2_tr_mass,init_w2_mass, best_lambdas_mass[2], max_iters, gamma)\n",
    "w3_mass, _ = reg_logistic_regression(y3_tr_mass, tX3_tr_mass,init_w3_mass, best_lambdas_mass[3], max_iters, gamma)\n",
    "\n",
    "\n",
    "w0_nomass, _ = reg_logistic_regression(y0_tr_nomass, tX0_tr_nomass,init_w0_nomass, best_lambdas_nomass[0], max_iters, gamma)\n",
    "w1_nomass, _ = reg_logistic_regression(y1_tr_nomass, tX1_tr_nomass,init_w1_nomass, best_lambdas_nomass[1], max_iters, gamma)\n",
    "w2_nomass, _ = reg_logistic_regression(y2_tr_nomass, tX2_tr_nomass,init_w2_nomass, best_lambdas_nomass[2], max_iters, gamma)\n",
    "w3_nomass, _ = reg_logistic_regression(y3_tr_nomass, tX3_tr_nomass,init_w3_nomass, best_lambdas_nomass[3], max_iters, gamma)\n",
    "\n",
    "\n",
    "\n",
    "y0_pred_mass = predict_labels(w0_mass, tX0_fin_mass)\n",
    "y1_pred_mass = predict_labels(w1_mass, tX1_fin_mass)\n",
    "y2_pred_mass = predict_labels(w2_mass, tX2_fin_mass)\n",
    "y3_pred_mass = predict_labels(w3_mass, tX3_fin_mass)\n",
    "\n",
    "y0_pred_nomass = predict_labels(w0_nomass, tX0_fin_nomass)\n",
    "y1_pred_nomass = predict_labels(w1_nomass, tX1_fin_nomass)\n",
    "y2_pred_nomass = predict_labels(w2_nomass, tX2_fin_nomass)\n",
    "y3_pred_nomass = predict_labels(w3_nomass, tX3_fin_nomass)\n"
   ]
  },
  {
   "cell_type": "code",
   "execution_count": null,
   "metadata": {},
   "outputs": [],
   "source": [
    "y_pred = np.concatenate([y0_pred_mass, y1_pred_mass, y2_pred_mass, y3_pred_mass,y0_pred_nomass, y1_pred_nomass, y2_pred_nomass, y3_pred_nomass])\n",
    "ids_pred = np.concatenate([ids0_fin_mass, ids1_fin_mass, ids2_fin_mass, ids3_fin_mass,ids0_fin_nomass, ids1_fin_nomass, ids2_fin_nomass, ids3_fin_nomass])\n",
    "OUTPUT_PATH = 'results_reg_logistic_cross_ext_sep.csv' \n",
    "create_csv_submission(ids_pred, y_pred, OUTPUT_PATH)"
   ]
  }
 ],
 "metadata": {
  "anaconda-cloud": {},
  "kernelspec": {
   "display_name": "Python 3",
   "language": "python",
   "name": "python3"
  },
  "language_info": {
   "codemirror_mode": {
    "name": "ipython",
    "version": 3
   },
   "file_extension": ".py",
   "mimetype": "text/x-python",
   "name": "python",
   "nbconvert_exporter": "python",
   "pygments_lexer": "ipython3",
   "version": "3.7.3"
  }
 },
 "nbformat": 4,
 "nbformat_minor": 1
}
