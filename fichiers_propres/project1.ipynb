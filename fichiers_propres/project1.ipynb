{
 "cells": [
  {
   "cell_type": "code",
   "execution_count": 1,
   "metadata": {},
   "outputs": [],
   "source": [
    "# Useful starting lines\n",
    "%matplotlib inline\n",
    "import numpy as np\n",
    "import matplotlib.pyplot as plt\n",
    "%load_ext autoreload\n",
    "%autoreload 2"
   ]
  },
  {
   "cell_type": "markdown",
   "metadata": {},
   "source": [
    "# Load the training data into feature matrix, class labels, and event ids:"
   ]
  },
  {
   "cell_type": "code",
   "execution_count": 2,
   "metadata": {},
   "outputs": [],
   "source": [
    "from proj1_helpers import *"
   ]
  },
  {
   "cell_type": "code",
   "execution_count": 3,
   "metadata": {},
   "outputs": [],
   "source": [
    "DATA_TRAIN_PATH = \"data/train.csv\"\n",
    "y, tX, ids = load_csv_data(DATA_TRAIN_PATH)"
   ]
  },
  {
   "cell_type": "markdown",
   "metadata": {},
   "source": [
    "# 1. Testing least squares optimization"
   ]
  },
  {
   "cell_type": "code",
   "execution_count": 4,
   "metadata": {},
   "outputs": [],
   "source": [
    "from implementation import least_squares"
   ]
  },
  {
   "cell_type": "markdown",
   "metadata": {},
   "source": [
    "### Training"
   ]
  },
  {
   "cell_type": "code",
   "execution_count": 5,
   "metadata": {},
   "outputs": [],
   "source": [
    "w, loss = least_squares(y, tX)"
   ]
  },
  {
   "cell_type": "code",
   "execution_count": 6,
   "metadata": {
    "scrolled": true
   },
   "outputs": [
    {
     "name": "stdout",
     "output_type": "stream",
     "text": [
      "Weights:\n",
      " [ 8.03494065e-05 -7.20202319e-03 -6.05417271e-03 -5.47558990e-04\n",
      " -1.93874741e-02  4.73451658e-04 -2.60379029e-02  3.25106309e-01\n",
      " -3.80781957e-05 -2.72330531e+00 -2.21220133e-01  9.50794055e-02\n",
      "  6.40351587e-02  2.73156499e+00 -3.31802219e-04 -9.54324978e-04\n",
      "  2.73632173e+00 -5.34162546e-04  9.73496532e-04  3.69225065e-03\n",
      "  3.54489209e-04 -5.43344473e-04 -3.30448036e-01 -1.40800501e-03\n",
      "  8.31433568e-04  1.02117209e-03 -1.68047397e-03 -5.83664968e-03\n",
      " -1.11087942e-02  2.72376524e+00] \n",
      " Loss:\n",
      " 0.6793736189603221\n"
     ]
    }
   ],
   "source": [
    "print(\"Weights:\\n\", w, \"\\n\", \"Loss:\\n\", loss)"
   ]
  },
  {
   "cell_type": "markdown",
   "metadata": {},
   "source": [
    "# 2. Testing least squares optimization with gradient descent"
   ]
  },
  {
   "cell_type": "code",
   "execution_count": 7,
   "metadata": {},
   "outputs": [],
   "source": [
    "from implementation import least_squares_GD"
   ]
  },
  {
   "cell_type": "markdown",
   "metadata": {},
   "source": [
    "### Training"
   ]
  },
  {
   "cell_type": "markdown",
   "metadata": {},
   "source": [
    "We define the parameters for the `least_squares_GD` function"
   ]
  },
  {
   "cell_type": "code",
   "execution_count": 11,
   "metadata": {},
   "outputs": [],
   "source": [
    "max_iters = 20\n",
    "gamma = 0.01\n",
    "initial_w = np.zeros(tX.shape[1])"
   ]
  },
  {
   "cell_type": "code",
   "execution_count": 12,
   "metadata": {},
   "outputs": [],
   "source": [
    "w, loss = least_squares_GD(y, tX, initial_w, max_iters, gamma)"
   ]
  },
  {
   "cell_type": "code",
   "execution_count": 13,
   "metadata": {
    "scrolled": false
   },
   "outputs": [
    {
     "name": "stdout",
     "output_type": "stream",
     "text": [
      "Weights:\n",
      " [-7.99213994e+89  4.02095449e+89  6.05949268e+89  2.33248635e+89\n",
      " -7.52733051e+90 -7.64763444e+90 -7.52619003e+90  1.88420283e+88\n",
      "  1.08026938e+89  7.37786382e+89  1.04190074e+88 -3.70528650e+87\n",
      " -7.52684309e+90  2.61766172e+89 -1.20080715e+86 -9.35752604e+85\n",
      "  3.23552439e+89 -2.24829494e+86  3.21299990e+86  2.52728817e+89\n",
      " -1.31469882e+86  1.11380795e+90  2.50966285e+87 -4.50088665e+90\n",
      " -4.66664463e+90 -4.66668529e+90 -7.53722695e+90 -7.52674065e+90\n",
      " -7.52674212e+90  1.52467768e+89] \n",
      " Loss:\n",
      " 4.060127109225278e+179\n"
     ]
    }
   ],
   "source": [
    "print(\"Weights:\\n\", w, \"\\n\", \"Loss:\\n\", loss)"
   ]
  },
  {
   "cell_type": "markdown",
   "metadata": {},
   "source": [
    "# 3. Testing least squares optimization with stochastic gradient descent"
   ]
  },
  {
   "cell_type": "code",
   "execution_count": 14,
   "metadata": {},
   "outputs": [],
   "source": [
    "from implementation import least_squares_SGD"
   ]
  },
  {
   "cell_type": "markdown",
   "metadata": {},
   "source": [
    "### Training"
   ]
  },
  {
   "cell_type": "markdown",
   "metadata": {},
   "source": [
    "We define the parameters for the `least_squares_SGD` function"
   ]
  },
  {
   "cell_type": "code",
   "execution_count": 15,
   "metadata": {},
   "outputs": [],
   "source": [
    "max_iters = 20\n",
    "gamma = 0.01\n",
    "initial_w = np.zeros(tX.shape[1])"
   ]
  },
  {
   "cell_type": "code",
   "execution_count": 16,
   "metadata": {},
   "outputs": [],
   "source": [
    "w, loss = least_squares_SGD(y, tX, initial_w, max_iters, gamma)"
   ]
  },
  {
   "cell_type": "code",
   "execution_count": 17,
   "metadata": {
    "scrolled": true
   },
   "outputs": [
    {
     "name": "stdout",
     "output_type": "stream",
     "text": [
      "Weights:\n",
      " [ 2.32086292e+74  1.71593749e+73  1.63296868e+74  1.78311885e+74\n",
      "  7.07813174e+72  6.58141929e+74 -8.05732562e+72  3.98299031e+72\n",
      "  3.78006581e+73  4.26738017e+74  2.03266947e+72  2.62084273e+72\n",
      "  1.17664163e+72  1.06294526e+74 -2.03213307e+71  6.02581539e+72\n",
      "  9.84198603e+73  6.14999119e+71  2.13544538e+72  5.90446660e+73\n",
      "  2.63110165e+72  4.57042717e+74  4.38873005e+72  1.42263566e+74\n",
      " -3.11727977e+72 -3.91087912e+72  7.87582011e+73  3.96284700e+72\n",
      " -3.46776527e+72  2.22025825e+74] \n",
      " Loss:\n",
      " 2.4928371992050304e+155\n"
     ]
    }
   ],
   "source": [
    "print(\"Weights:\\n\", w, \"\\n\", \"Loss:\\n\", loss)"
   ]
  },
  {
   "cell_type": "markdown",
   "metadata": {},
   "source": [
    "## Generate predictions and save ouput in csv format for submission:"
   ]
  },
  {
   "cell_type": "code",
   "execution_count": 10,
   "metadata": {},
   "outputs": [],
   "source": [
    "DATA_TEST_PATH = '' # TODO: download train data and supply path here \n",
    "_, tX_test, ids_test = load_csv_data(DATA_TEST_PATH)"
   ]
  },
  {
   "cell_type": "code",
   "execution_count": 31,
   "metadata": {},
   "outputs": [],
   "source": [
    "OUTPUT_PATH = '' # TODO: fill in desired name of output file for submission\n",
    "y_pred = predict_labels(weights, tX_test)\n",
    "create_csv_submission(ids_test, y_pred, OUTPUT_PATH)"
   ]
  },
  {
   "cell_type": "code",
   "execution_count": null,
   "metadata": {
    "collapsed": true
   },
   "outputs": [],
   "source": []
  }
 ],
 "metadata": {
  "anaconda-cloud": {},
  "kernelspec": {
   "display_name": "Python 3",
   "language": "python",
   "name": "python3"
  },
  "language_info": {
   "codemirror_mode": {
    "name": "ipython",
    "version": 3
   },
   "file_extension": ".py",
   "mimetype": "text/x-python",
   "name": "python",
   "nbconvert_exporter": "python",
   "pygments_lexer": "ipython3",
   "version": "3.7.3"
  }
 },
 "nbformat": 4,
 "nbformat_minor": 1
}
